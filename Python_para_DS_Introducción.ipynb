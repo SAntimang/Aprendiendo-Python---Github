{
  "nbformat": 4,
  "nbformat_minor": 0,
  "metadata": {
    "colab": {
      "provenance": [],
      "authorship_tag": "ABX9TyOz1N2gUH2YbpG5a+XS7Mez",
      "include_colab_link": true
    },
    "kernelspec": {
      "name": "python3",
      "display_name": "Python 3"
    },
    "language_info": {
      "name": "python"
    }
  },
  "cells": [
    {
      "cell_type": "markdown",
      "metadata": {
        "id": "view-in-github",
        "colab_type": "text"
      },
      "source": [
        "<a href=\"https://colab.research.google.com/github/SAntimang/Aprendiendo-Python---Github/blob/master/Python_para_DS_Introducci%C3%B3n.ipynb\" target=\"_parent\"><img src=\"https://colab.research.google.com/assets/colab-badge.svg\" alt=\"Open In Colab\"/></a>"
      ]
    },
    {
      "cell_type": "markdown",
      "source": [
        "# **Python para DS - Introducción al Lenguaje**"
      ],
      "metadata": {
        "id": "br-TTRpUjIsP"
      }
    },
    {
      "cell_type": "code",
      "execution_count": null,
      "metadata": {
        "colab": {
          "base_uri": "https://localhost:8080/"
        },
        "id": "zZblrLrci38Z",
        "outputId": "185f9879-9e94-462b-9ed3-5364d1578e21"
      },
      "outputs": [
        {
          "output_type": "execute_result",
          "data": {
            "text/plain": [
              "2"
            ]
          },
          "metadata": {},
          "execution_count": 5
        }
      ],
      "source": [
        "1+1"
      ]
    },
    {
      "cell_type": "code",
      "source": [
        "'Sebastián'"
      ],
      "metadata": {
        "colab": {
          "base_uri": "https://localhost:8080/",
          "height": 36
        },
        "id": "rhkpwJ2Fj1vy",
        "outputId": "1e9a99dc-44bc-4ab3-de34-79c50131254d"
      },
      "execution_count": null,
      "outputs": [
        {
          "output_type": "execute_result",
          "data": {
            "text/plain": [
              "'Sebastián'"
            ],
            "application/vnd.google.colaboratory.intrinsic+json": {
              "type": "string"
            }
          },
          "metadata": {},
          "execution_count": 6
        }
      ]
    },
    {
      "cell_type": "code",
      "source": [
        "nombre = 'Sebastián'"
      ],
      "metadata": {
        "id": "KgxDZtvoj8ye"
      },
      "execution_count": null,
      "outputs": []
    },
    {
      "cell_type": "code",
      "source": [
        "nombre"
      ],
      "metadata": {
        "colab": {
          "base_uri": "https://localhost:8080/",
          "height": 36
        },
        "id": "t3cuHwfKkLKp",
        "outputId": "ccf5b0ce-d9d5-49e0-8426-df7c64f6ef70"
      },
      "execution_count": null,
      "outputs": [
        {
          "output_type": "execute_result",
          "data": {
            "text/plain": [
              "'Sebastián'"
            ],
            "application/vnd.google.colaboratory.intrinsic+json": {
              "type": "string"
            }
          },
          "metadata": {},
          "execution_count": 8
        }
      ]
    },
    {
      "cell_type": "code",
      "source": [
        "edad = 35"
      ],
      "metadata": {
        "id": "nYflvCa4ka_i"
      },
      "execution_count": null,
      "outputs": []
    },
    {
      "cell_type": "code",
      "source": [
        "edad"
      ],
      "metadata": {
        "colab": {
          "base_uri": "https://localhost:8080/"
        },
        "id": "AaKklYdfknkO",
        "outputId": "562d979d-ccd8-4499-8629-b4aad0b7edb8"
      },
      "execution_count": null,
      "outputs": [
        {
          "output_type": "execute_result",
          "data": {
            "text/plain": [
              "35"
            ]
          },
          "metadata": {},
          "execution_count": 10
        }
      ]
    },
    {
      "cell_type": "code",
      "source": [],
      "metadata": {
        "id": "o-wlQVJAkoSA"
      },
      "execution_count": null,
      "outputs": []
    },
    {
      "cell_type": "code",
      "source": [
        "def nombre_completo():\n",
        "   primer_nombre = input('¿Cuál es tu primer nombre? ')\n",
        "   apellido = input('¿Cuál es tu apellido? ')\n",
        "   nombre_completo = primer_nombre + ' ' + apellido\n",
        "   print(nombre_completo)\n",
        "nombre_completo()"
      ],
      "metadata": {
        "id": "ysGabmAC3Z1_",
        "outputId": "156ce9d6-0fd6-4784-db50-8c07a0aad9da",
        "colab": {
          "base_uri": "https://localhost:8080/"
        }
      },
      "execution_count": null,
      "outputs": [
        {
          "output_type": "stream",
          "name": "stdout",
          "text": [
            "¿Cuál es tu primer nombre? Seba\n",
            "¿Cuál es tu apellido? Anti\n",
            "Seba Anti\n"
          ]
        }
      ]
    },
    {
      "cell_type": "markdown",
      "source": [
        "# Mi primera función"
      ],
      "metadata": {
        "id": "BwK3Uje5kl2n"
      }
    },
    {
      "cell_type": "code",
      "source": [
        "print(f'El nombre es {nombre} y su edad es {edad} años')"
      ],
      "metadata": {
        "colab": {
          "base_uri": "https://localhost:8080/"
        },
        "id": "AVYTPfVOjge5",
        "outputId": "505085db-f6e3-4c4f-f92f-cb9356fe2d23"
      },
      "execution_count": null,
      "outputs": [
        {
          "output_type": "stream",
          "name": "stdout",
          "text": [
            "El nombre es Sebastián y su edad es 35 años\n"
          ]
        }
      ]
    },
    {
      "cell_type": "code",
      "source": [
        "def saludar():\n",
        "  nombre = input('Digite su nombre')\n",
        "  print(f'Hola {nombre} sea bienvenid@!')"
      ],
      "metadata": {
        "id": "TFo2qTMDlalV"
      },
      "execution_count": null,
      "outputs": []
    },
    {
      "cell_type": "code",
      "source": [
        "saludar()"
      ],
      "metadata": {
        "colab": {
          "base_uri": "https://localhost:8080/"
        },
        "id": "vP7kU0rpnjfK",
        "outputId": "605e97c2-6e37-4625-fd81-eb80e42bcda6"
      },
      "execution_count": null,
      "outputs": [
        {
          "output_type": "stream",
          "name": "stdout",
          "text": [
            "Digite su nombreSe\n",
            "Hola Se sea bienvenid@!\n"
          ]
        }
      ]
    },
    {
      "cell_type": "code",
      "source": [
        "saludar()"
      ],
      "metadata": {
        "colab": {
          "base_uri": "https://localhost:8080/"
        },
        "id": "F1eLkiLlnyrf",
        "outputId": "be6ee9e6-0fd5-4d28-807c-cba3dc7187a9"
      },
      "execution_count": null,
      "outputs": [
        {
          "output_type": "stream",
          "name": "stdout",
          "text": [
            "Digite su nombrese\n",
            "Hola se sea bienvenid@!\n"
          ]
        }
      ]
    },
    {
      "cell_type": "markdown",
      "source": [
        "# **Listas**"
      ],
      "metadata": {
        "id": "sa0DKHcP24sn"
      }
    },
    {
      "cell_type": "code",
      "source": [
        "edades = [18, 15, 12, 45, 50]\n",
        "#         0   1   2   3   4\n",
        "#         0  -4  -3  -2  -1"
      ],
      "metadata": {
        "id": "y6SuPIdW2-U8"
      },
      "execution_count": null,
      "outputs": []
    },
    {
      "cell_type": "code",
      "source": [
        "edades"
      ],
      "metadata": {
        "colab": {
          "base_uri": "https://localhost:8080/"
        },
        "id": "o7TP7XiG3SO_",
        "outputId": "ed0dbe2a-563e-4c75-fd72-5334c7bdad58"
      },
      "execution_count": null,
      "outputs": [
        {
          "output_type": "execute_result",
          "data": {
            "text/plain": [
              "[18, 15, 12, 45, 50]"
            ]
          },
          "metadata": {},
          "execution_count": 17
        }
      ]
    },
    {
      "cell_type": "code",
      "source": [
        "print(edades)"
      ],
      "metadata": {
        "colab": {
          "base_uri": "https://localhost:8080/"
        },
        "id": "KANkESxE3hzt",
        "outputId": "2fd6f63b-7506-43b2-ec13-1b587917ba26"
      },
      "execution_count": null,
      "outputs": [
        {
          "output_type": "stream",
          "name": "stdout",
          "text": [
            "[18, 15, 12, 45, 50]\n"
          ]
        }
      ]
    },
    {
      "cell_type": "code",
      "source": [
        "type(nombre)"
      ],
      "metadata": {
        "colab": {
          "base_uri": "https://localhost:8080/"
        },
        "id": "wZXqYt4y3miF",
        "outputId": "a7d42a9b-3792-4bc4-b7a4-82ecf952e1c5"
      },
      "execution_count": null,
      "outputs": [
        {
          "output_type": "execute_result",
          "data": {
            "text/plain": [
              "str"
            ]
          },
          "metadata": {},
          "execution_count": 19
        }
      ]
    },
    {
      "cell_type": "code",
      "source": [
        "type(edades)"
      ],
      "metadata": {
        "colab": {
          "base_uri": "https://localhost:8080/"
        },
        "id": "e-YBuO1O3ydq",
        "outputId": "7e554afb-ccc8-4d4c-a913-85317140eddf"
      },
      "execution_count": null,
      "outputs": [
        {
          "output_type": "execute_result",
          "data": {
            "text/plain": [
              "list"
            ]
          },
          "metadata": {},
          "execution_count": 20
        }
      ]
    },
    {
      "cell_type": "code",
      "source": [
        "edades[2:6]"
      ],
      "metadata": {
        "colab": {
          "base_uri": "https://localhost:8080/"
        },
        "id": "mgjlRBET37LK",
        "outputId": "f5fdfd8a-4ddf-4f0b-ac18-50e9889e537c"
      },
      "execution_count": null,
      "outputs": [
        {
          "output_type": "execute_result",
          "data": {
            "text/plain": [
              "[12, 45, 50]"
            ]
          },
          "metadata": {},
          "execution_count": 21
        }
      ]
    },
    {
      "cell_type": "code",
      "source": [
        "edades[0]"
      ],
      "metadata": {
        "colab": {
          "base_uri": "https://localhost:8080/"
        },
        "id": "hh0Qaf3L4IvZ",
        "outputId": "df3d4654-1636-4ec9-cc01-881dc2435a2b"
      },
      "execution_count": null,
      "outputs": [
        {
          "output_type": "execute_result",
          "data": {
            "text/plain": [
              "18"
            ]
          },
          "metadata": {},
          "execution_count": 23
        }
      ]
    },
    {
      "cell_type": "code",
      "source": [
        "edades[0:3]"
      ],
      "metadata": {
        "colab": {
          "base_uri": "https://localhost:8080/"
        },
        "id": "M9mT3bDm4fr-",
        "outputId": "0e321ca1-53d2-4ca4-bfd5-6e493a230788"
      },
      "execution_count": null,
      "outputs": [
        {
          "output_type": "execute_result",
          "data": {
            "text/plain": [
              "[18, 15, 12]"
            ]
          },
          "metadata": {},
          "execution_count": 25
        }
      ]
    },
    {
      "cell_type": "code",
      "source": [
        "edades[:]"
      ],
      "metadata": {
        "colab": {
          "base_uri": "https://localhost:8080/"
        },
        "id": "DjJOeXcK4sZT",
        "outputId": "26bad8bf-fe39-4b60-850d-82064522c1ee"
      },
      "execution_count": null,
      "outputs": [
        {
          "output_type": "execute_result",
          "data": {
            "text/plain": [
              "[18, 15, 12, 45, 50]"
            ]
          },
          "metadata": {},
          "execution_count": 26
        }
      ]
    },
    {
      "cell_type": "code",
      "source": [
        "edades[1:]"
      ],
      "metadata": {
        "colab": {
          "base_uri": "https://localhost:8080/"
        },
        "id": "EDu4QNQh43s8",
        "outputId": "8e67a325-6792-4a54-9dd0-9286b3f260cf"
      },
      "execution_count": null,
      "outputs": [
        {
          "output_type": "execute_result",
          "data": {
            "text/plain": [
              "[15, 12, 45, 50]"
            ]
          },
          "metadata": {},
          "execution_count": 27
        }
      ]
    },
    {
      "cell_type": "code",
      "source": [
        "print(edades[-3])\n",
        "print(edades[2])"
      ],
      "metadata": {
        "colab": {
          "base_uri": "https://localhost:8080/"
        },
        "id": "VOXiFv8c49DB",
        "outputId": "2615283d-7453-4797-f7e8-bc79264e0184"
      },
      "execution_count": null,
      "outputs": [
        {
          "output_type": "stream",
          "name": "stdout",
          "text": [
            "12\n",
            "12\n"
          ]
        }
      ]
    },
    {
      "cell_type": "code",
      "source": [
        "frase_alura = [' Digitales', 'y ', 'Negocios ', 'de ', 'Tecnología ', 'Cursos ']\n",
        "#                   0         1       2           3       4             5\n",
        "#                   -6        -5      -4          -3     -2           -1\n",
        "#Cursos de Tecnología y Negocios Digitales\n"
      ],
      "metadata": {
        "id": "2-x8_jzk54Yx"
      },
      "execution_count": null,
      "outputs": []
    },
    {
      "cell_type": "markdown",
      "source": [
        "# **Bucles y Ciclos**"
      ],
      "metadata": {
        "id": "xgV9UKd79Vzg"
      }
    },
    {
      "cell_type": "code",
      "source": [
        "#Bucle fuera de la función\n",
        "\n",
        "edades = [18, 15, 12, 45, 50]\n",
        "\n",
        "def verificar_si_puede_conducir(edad):\n",
        "  if edad >=18:\n",
        "    print(\"Usted tiene edad suficiente para conducir\")\n",
        "  else:\n",
        "    print(\"Usted NO tiene edad suficiente para conducir\")\n",
        "\n",
        "\n",
        "print(edad)\n",
        "\n",
        "#para cada edad dentro de la lista edades:\n",
        "for  edad in edades:\n",
        "  \n",
        "  \n",
        "  verificar_si_puede_conducir(edad)\n"
      ],
      "metadata": {
        "colab": {
          "base_uri": "https://localhost:8080/"
        },
        "id": "J_r8gbq87PdP",
        "outputId": "43f61eff-1655-4553-c832-5d791dbb9f79"
      },
      "execution_count": null,
      "outputs": [
        {
          "output_type": "stream",
          "name": "stdout",
          "text": [
            "35\n",
            "Usted tiene edad suficiente para conducir\n",
            "Usted NO tiene edad suficiente para conducir\n",
            "Usted NO tiene edad suficiente para conducir\n",
            "Usted tiene edad suficiente para conducir\n",
            "Usted tiene edad suficiente para conducir\n"
          ]
        }
      ]
    },
    {
      "cell_type": "code",
      "source": [
        "#Bucle dentro de la función\n",
        "\n",
        "edades = [18, 15, 12, 45, 50]\n",
        "\n",
        "\n",
        "def verificar_si_puede_conducir_con_bucle(edades):\n",
        "  for edad in edades:\n",
        "    if edad >=18:\n",
        "      print(\"Usted tiene edad suficiente para conducir\")\n",
        "    else:\n",
        "      print(\"Usted NO tiene edad suficiente para conducir\")\n",
        "  \n",
        "  \n",
        "verificar_si_puede_conducir_con_bucle(edades)"
      ],
      "metadata": {
        "colab": {
          "base_uri": "https://localhost:8080/"
        },
        "id": "rrewbfLp_q--",
        "outputId": "4da869ee-296c-444d-d139-f42fcd03f22d"
      },
      "execution_count": null,
      "outputs": [
        {
          "output_type": "stream",
          "name": "stdout",
          "text": [
            "Usted tiene edad suficiente para conducir\n",
            "Usted NO tiene edad suficiente para conducir\n",
            "Usted NO tiene edad suficiente para conducir\n",
            "Usted tiene edad suficiente para conducir\n",
            "Usted tiene edad suficiente para conducir\n"
          ]
        }
      ]
    },
    {
      "cell_type": "markdown",
      "source": [
        "#**Booleanos**"
      ],
      "metadata": {
        "id": "dAtSP8lsrA8Q"
      }
    },
    {
      "cell_type": "code",
      "source": [
        "edad = 18"
      ],
      "metadata": {
        "id": "tbry8nGurGXX"
      },
      "execution_count": 1,
      "outputs": []
    },
    {
      "cell_type": "code",
      "source": [
        "edad >= 18"
      ],
      "metadata": {
        "colab": {
          "base_uri": "https://localhost:8080/"
        },
        "id": "TbnD_2vGrNiJ",
        "outputId": "5c5985e9-709e-473c-e3a0-1e5b3210460d"
      },
      "execution_count": 2,
      "outputs": [
        {
          "output_type": "execute_result",
          "data": {
            "text/plain": [
              "True"
            ]
          },
          "metadata": {},
          "execution_count": 2
        }
      ]
    },
    {
      "cell_type": "code",
      "source": [
        "edad < 18"
      ],
      "metadata": {
        "colab": {
          "base_uri": "https://localhost:8080/"
        },
        "id": "ROJHjeUOrUM-",
        "outputId": "4bf0187f-6274-4db3-8c01-953de7f84b1f"
      },
      "execution_count": 3,
      "outputs": [
        {
          "output_type": "execute_result",
          "data": {
            "text/plain": [
              "False"
            ]
          },
          "metadata": {},
          "execution_count": 3
        }
      ]
    },
    {
      "cell_type": "code",
      "source": [
        "edad == 18"
      ],
      "metadata": {
        "colab": {
          "base_uri": "https://localhost:8080/"
        },
        "id": "b6ILpAjVrW0Q",
        "outputId": "582c3508-9e56-4cf6-ee2e-966b4ad42161"
      },
      "execution_count": 4,
      "outputs": [
        {
          "output_type": "execute_result",
          "data": {
            "text/plain": [
              "True"
            ]
          },
          "metadata": {},
          "execution_count": 4
        }
      ]
    },
    {
      "cell_type": "code",
      "source": [
        "verificaciones = []\n",
        "edades = [13, 15, 18]\n",
        "\n",
        "def verificar_si_puede_conducir_bool(verificaciones, edades):\n",
        "  for edad in edades:\n",
        "    if edad >= 18:\n",
        "      verificaciones.append(True)\n",
        "    else:\n",
        "      verificaciones.append(False)\n",
        "  for verificacion in verificaciones:\n",
        "    if verificacion == True:\n",
        "      print(\"Usted tiene edad suficiente para conducir\")\n",
        "    else:\n",
        "      print(\"Usted NO tiene edad suficiente para conducir\")\n",
        "\n",
        "\n",
        "verificar_si_puede_conducir_bool(verificaciones, edades)"
      ],
      "metadata": {
        "colab": {
          "base_uri": "https://localhost:8080/"
        },
        "id": "yBnaAEJ6rhPe",
        "outputId": "275383ab-f1bd-4d42-ecdb-1fa72c5ef993"
      },
      "execution_count": 9,
      "outputs": [
        {
          "output_type": "stream",
          "name": "stdout",
          "text": [
            "Usted NO tiene edad suficiente para conducir\n",
            "Usted NO tiene edad suficiente para conducir\n",
            "Usted tiene edad suficiente para conducir\n"
          ]
        }
      ]
    },
    {
      "cell_type": "code",
      "source": [
        "verificaciones"
      ],
      "metadata": {
        "colab": {
          "base_uri": "https://localhost:8080/"
        },
        "id": "RkGom7b-sCrU",
        "outputId": "e25f5de1-f8eb-4bc5-ab96-34b42c9894e4"
      },
      "execution_count": 8,
      "outputs": [
        {
          "output_type": "execute_result",
          "data": {
            "text/plain": [
              "[False, False, True]"
            ]
          },
          "metadata": {},
          "execution_count": 8
        }
      ]
    },
    {
      "cell_type": "code",
      "source": [
        "a = 2\n",
        "\n",
        "if a < 2:\n",
        "  a = a + 1\n",
        "else:\n",
        "  a = a + 2\n",
        "if a < 4:\n",
        "  a = a - 4\n",
        "else:\n",
        "  a = a + 6\n",
        "\n",
        "  a"
      ],
      "metadata": {
        "id": "yvIYz5-ntPtN"
      },
      "execution_count": 11,
      "outputs": []
    },
    {
      "cell_type": "code",
      "source": [
        "a"
      ],
      "metadata": {
        "colab": {
          "base_uri": "https://localhost:8080/"
        },
        "id": "zb_J7Y8htwa3",
        "outputId": "ecb848da-0add-42b0-a868-390a0522c376"
      },
      "execution_count": 12,
      "outputs": [
        {
          "output_type": "execute_result",
          "data": {
            "text/plain": [
              "10"
            ]
          },
          "metadata": {},
          "execution_count": 12
        }
      ]
    },
    {
      "cell_type": "markdown",
      "source": [
        "#**Lista con diferentes tipos de datos**"
      ],
      "metadata": {
        "id": "IPNZIYmywgZ2"
      }
    },
    {
      "cell_type": "code",
      "source": [
        "persona = ['Mariana', 25, True, 'México']"
      ],
      "metadata": {
        "id": "VjGElngywpTy"
      },
      "execution_count": 21,
      "outputs": []
    },
    {
      "cell_type": "code",
      "source": [
        "persona"
      ],
      "metadata": {
        "colab": {
          "base_uri": "https://localhost:8080/"
        },
        "id": "8N3oMymLw1-M",
        "outputId": "e752ed27-8284-479f-b935-9ea4262fc26e"
      },
      "execution_count": 22,
      "outputs": [
        {
          "output_type": "execute_result",
          "data": {
            "text/plain": [
              "['Mariana', 25, True, 'México']"
            ]
          },
          "metadata": {},
          "execution_count": 22
        }
      ]
    },
    {
      "cell_type": "code",
      "source": [
        "for elemento in persona:\n",
        "  print(f'El elemento {elemento} de la lista es del tipo', type(elemento))"
      ],
      "metadata": {
        "colab": {
          "base_uri": "https://localhost:8080/"
        },
        "id": "612yeiIyw56X",
        "outputId": "15e27699-dce8-4760-b7e6-8f45246ad3e4"
      },
      "execution_count": 23,
      "outputs": [
        {
          "output_type": "stream",
          "name": "stdout",
          "text": [
            "El elemento Mariana de la lista es del tipo <class 'str'>\n",
            "El elemento 25 de la lista es del tipo <class 'int'>\n",
            "El elemento True de la lista es del tipo <class 'bool'>\n",
            "El elemento México de la lista es del tipo <class 'str'>\n"
          ]
        }
      ]
    },
    {
      "cell_type": "code",
      "source": [
        "lista = ['int', False, True, '18', 2020]"
      ],
      "metadata": {
        "id": "tM-Q2v_lyIvA"
      },
      "execution_count": 27,
      "outputs": []
    },
    {
      "cell_type": "code",
      "source": [
        "for elemento in lista:\n",
        "  print(type(elemento))"
      ],
      "metadata": {
        "colab": {
          "base_uri": "https://localhost:8080/"
        },
        "id": "5XPR8ZxFySh4",
        "outputId": "35c6c86e-582b-4cd9-f3cb-5a7167858cab"
      },
      "execution_count": 28,
      "outputs": [
        {
          "output_type": "stream",
          "name": "stdout",
          "text": [
            "<class 'str'>\n",
            "<class 'bool'>\n",
            "<class 'bool'>\n",
            "<class 'str'>\n",
            "<class 'int'>\n"
          ]
        }
      ]
    },
    {
      "cell_type": "markdown",
      "source": [
        "#**Importando una Biblioteca**"
      ],
      "metadata": {
        "id": "WJ_To9Ku-N2z"
      }
    },
    {
      "cell_type": "code",
      "source": [
        "from random import randrange"
      ],
      "metadata": {
        "id": "qr6rZPdY-VXX"
      },
      "execution_count": 29,
      "outputs": []
    },
    {
      "cell_type": "code",
      "source": [
        "randrange(0,11)"
      ],
      "metadata": {
        "colab": {
          "base_uri": "https://localhost:8080/"
        },
        "id": "-5s42j_1-dVx",
        "outputId": "db9951a6-14ee-4071-e28b-d3f4527e0d9a"
      },
      "execution_count": 33,
      "outputs": [
        {
          "output_type": "execute_result",
          "data": {
            "text/plain": [
              "4"
            ]
          },
          "metadata": {},
          "execution_count": 33
        }
      ]
    }
  ]
}