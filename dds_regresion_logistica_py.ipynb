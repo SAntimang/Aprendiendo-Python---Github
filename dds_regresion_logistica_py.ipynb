{
  "cells": [
    {
      "cell_type": "markdown",
      "metadata": {
        "id": "view-in-github",
        "colab_type": "text"
      },
      "source": [
        "<a href=\"https://colab.research.google.com/github/SAntimang/Aprendiendo-Python---Github/blob/master/dds_regresion_logistica_py.ipynb\" target=\"_parent\"><img src=\"https://colab.research.google.com/assets/colab-badge.svg\" alt=\"Open In Colab\"/></a>"
      ]
    },
    {
      "cell_type": "markdown",
      "metadata": {
        "id": "eoBkxx7vBl7S"
      },
      "source": [
        "# Modelo de Regresión Logística\n",
        "\n",
        "**Diplomado en Data Science Versión 2024** <br>\n",
        "**Facultad de Matemáticas**<br>\n",
        "**Pontificia Universidad Católica de Chile**\n",
        "\n",
        "---"
      ]
    },
    {
      "cell_type": "markdown",
      "metadata": {
        "id": "iemRRJogBl7V"
      },
      "source": [
        "Hoy nuestro interés estará centrado en la probabilidad de ocurrencia de determinandos eventos, dados algunos eventos externos y que ya han ocurrido. Denotemos:\n",
        "\n",
        "$$\n",
        "\\mathbb{P}(Y_i=1\\mid X=x_i)=\\pi_i\n",
        "$$\n",
        "\n",
        "como la probabilidad de ocurrencia del fenómeno binario (o Bernoulli) $Y_i$ (donde 1 significa que el evento ocurre) dados los eventos conocidos $x_i$. Entonces $Y_i$ se denomina **variable respuesta** y $x_i$ es un conjunto de **predictores, covariables o variables independientes**.\n"
      ]
    },
    {
      "cell_type": "markdown",
      "metadata": {
        "id": "ABdbFL__Bl7V"
      },
      "source": [
        "Para ejempificar esto, consideremos una empresa de telecomunicaciones. Simulemos que nos interesa calcular la probabilidad de que el cliente N°5 finalize su contrato en la empresa, dado que lleva dos meses de antiguedad. Entonces, nuestro interés se centra en:\n",
        "\n",
        "$$\n",
        "\\mathbb{P}(\\text{FinalizaContrato}_5=1\\mid\\text{Antigüedad}=2)=\\pi_5\n",
        "$$"
      ]
    },
    {
      "cell_type": "markdown",
      "metadata": {
        "id": "dsMvSB6aBl7W"
      },
      "source": [
        "**¿Qué son las chances?**"
      ]
    },
    {
      "cell_type": "markdown",
      "metadata": {
        "id": "Zi72JLaJBl7W"
      },
      "source": [
        "Seguramente han escuchado una frase similar a \"las chances de que gane tal caballo es de 3 a 1\", es decir, de cuatro carreras, el caballo gana tres y pierde una. En otros términos:\n",
        "* La probabilidad de que gane el caballo la carrera es $\\pi={\\text{casos favorables} \\over \\text{casos posibles}} = 3/4$.\n",
        "* Las chances de que gane el caballo la carrera es de ${\\pi \\over 1 - \\pi}={0.75 \\over 1-0.75}=$ 3 a 1."
      ]
    },
    {
      "cell_type": "markdown",
      "metadata": {
        "id": "r0Ct-a62Bl7W"
      },
      "source": [
        "Basicamente las chances son una segunda forma de señalar la cantidad de evidencia hacia la ocurrencia de un evento y especialmente, son la base del modelo de regresión logística."
      ]
    },
    {
      "cell_type": "markdown",
      "metadata": {
        "id": "ZbNeJoMNBl7W"
      },
      "source": [
        "### La Regresión Logística"
      ]
    },
    {
      "cell_type": "markdown",
      "metadata": {
        "id": "_x3BxQxkBl7X"
      },
      "source": [
        "La **regresión logística** sirve para modelar la probabilidad de ocurrencia de un evento dado un conjunto de predictores en base a información del pasado. Se enmarca en el conjunto de **modelos lineales generalizados** o GLM por sus siglas en inglés.\n",
        "\n",
        "Por conveniencia matemática, la regresión logística modela el **logaritmo de las chances de que ocurra el evento** (tambien conocidas como **log-chances** o **logits**). Es decir, se puede denotar de la siguiente forma:"
      ]
    },
    {
      "cell_type": "markdown",
      "metadata": {
        "id": "xSBREaeFBl7X"
      },
      "source": [
        "$$\n",
        "\\log{\\left(\\pi_i \\over 1 - \\pi_i\\right)} = \\beta_0 + \\beta_1 x_{i1} + \\dots + \\beta_n x_{in}\n",
        "$$"
      ]
    },
    {
      "cell_type": "markdown",
      "metadata": {
        "id": "y-KFtqI2Bl7X"
      },
      "source": [
        "O sea, buscar modelar los *logits* como una combinación lineal de los predictores. Entonces, el interés es obtener estimaciones de los parámetros $\\beta_0, \\beta_1, \\dots, \\beta_n$.\n",
        "\n",
        "Luego de estimar los parámetros de interés del modelo y con un poco de manipulación respecto al modelo mostrado, la probabilidad de ocurrencia del evento de interés esta dada por la siguiente fórmula:\n",
        "\n",
        "$$\n",
        "\\hat\\pi_i = {\\exp{(\\hat\\beta_0 + \\hat\\beta_1 x_{i1} + \\dots + \\hat\\beta_n x_{in})} \\over 1 + \\exp{(\\hat\\beta_0 + \\hat\\beta_1 x_{i1} + \\dots + \\hat\\beta_n x_{in})}}\n",
        "$$"
      ]
    },
    {
      "cell_type": "markdown",
      "metadata": {
        "id": "X1tdRuYOBl7X"
      },
      "source": [
        "En este caso, el acento circunflejo ^, hace referencia a que los valores corresponden a estimaciones de los parámetros de interés. Para obtener estas estimaciones, debemos tener un conjunto de datos que contenga observaciones para todas las variables independientes y la variable respuesta. El conjunto de datos debe ser representativo de la población o del fenómeno que se está estudiando."
      ]
    },
    {
      "cell_type": "markdown",
      "metadata": {
        "id": "wedt259GBl7X"
      },
      "source": [
        "Para el ejemplo de modelar la probabilidad de fuga de un cliente dado que lleva dos meses en la empresa, consideremos la base de datos `EmpresaServicios.xlsx` que  contiene información de los clientes de esta empresa y que decidieron finalizar su contrato, o que a la fecha aún lo mantienen. Las variables de esta base de datos son las siguientes:\n",
        "\n",
        "* `Sexo`: Sexo del titular (Mujer, Hombre)\n",
        "* `TipoCliente`: Indica si el cliente es premium o regular\n",
        "* `MasUnPlan`: Si el titular posee más de un plan asociado.\n",
        "* `MultipleServicios`: Si cliente posee internet y telefonía o solo internet.\n",
        "* `Antiguedad`: Antigüedad del contrato (meses).\n",
        "* `Edad`: Edad en años del titular de la cuenta.\n",
        "* `Beneficios`: Si cliente accede a los beneficios de descuentos\n",
        "* `ParticipoEvento`: Si cliente participó de evento online de empresa.\n",
        "* `AsisteSucursal`: Si cliente asiste muchas, pocas o ninguna vez a sucursal.\n",
        "* `DeudaMembresia`: Si cliente presenta atraso por pagar su cuenta.\n",
        "* `PagaporServicio`: Monto de dinero que el cliente paga por su servicio\n",
        "* `Churn`: Si cliente finaliza o mantiene el contrato vigente (variable respuesta)."
      ]
    },
    {
      "cell_type": "markdown",
      "metadata": {
        "id": "7fwralFoBl7Y"
      },
      "source": [
        "Carguemos los datos y luego veamos algunos gráficos y tablas asociados a la variable respuesta."
      ]
    },
    {
      "cell_type": "code",
      "execution_count": null,
      "metadata": {
        "id": "ARzPJeZZBl7Y",
        "outputId": "0e0ce70e-8cb2-4113-e3e0-c40eb5f0e6b7",
        "colab": {
          "base_uri": "https://localhost:8080/",
          "height": 293
        }
      },
      "outputs": [
        {
          "output_type": "display_data",
          "data": {
            "text/plain": [
              "    Sexo TipoCliente MasUnPlan    MultipleServicios  Antiguedad  Edad  \\\n",
              "0  Mujer     Regular        No        Solo Internet          67    31   \n",
              "1  Mujer     Regular        Si        Solo Internet          63    42   \n",
              "2  Mujer     Regular        No  Internet y Telefono          37    37   \n",
              "3  Mujer     Regular        No        Solo Internet          67    43   \n",
              "4  Mujer     Regular        No        Solo Internet          75    44   \n",
              "\n",
              "               Beneficios ParticipoEvento     AsisteSucursal DeudaMembresia  \\\n",
              "0  No Accede a Beneficios    No Participa  Una o ninguna vez      No Deudor   \n",
              "1     Accede a Beneficios    No Participa  Una o ninguna vez      No Deudor   \n",
              "2  No Accede a Beneficios    No Participa  Una o ninguna vez      No Deudor   \n",
              "3  No Accede a Beneficios    No Participa  Una o ninguna vez      No Deudor   \n",
              "4  No Accede a Beneficios    No Participa  Una o ninguna vez      No Deudor   \n",
              "\n",
              "   PagaporServicio              Churn  \n",
              "0         16.90000  Finaliza Contrato  \n",
              "1         14.30000  Mantiene Contrato  \n",
              "2         19.40000  Mantiene Contrato  \n",
              "3         19.70000  Finaliza Contrato  \n",
              "4         15.80000  Mantiene Contrato  "
            ],
            "text/html": [
              "\n",
              "  <div id=\"df-511af8ae-d6c0-48a7-bf83-43746a907af0\" class=\"colab-df-container\">\n",
              "    <div>\n",
              "<style scoped>\n",
              "    .dataframe tbody tr th:only-of-type {\n",
              "        vertical-align: middle;\n",
              "    }\n",
              "\n",
              "    .dataframe tbody tr th {\n",
              "        vertical-align: top;\n",
              "    }\n",
              "\n",
              "    .dataframe thead th {\n",
              "        text-align: right;\n",
              "    }\n",
              "</style>\n",
              "<table border=\"1\" class=\"dataframe\">\n",
              "  <thead>\n",
              "    <tr style=\"text-align: right;\">\n",
              "      <th></th>\n",
              "      <th>Sexo</th>\n",
              "      <th>TipoCliente</th>\n",
              "      <th>MasUnPlan</th>\n",
              "      <th>MultipleServicios</th>\n",
              "      <th>Antiguedad</th>\n",
              "      <th>Edad</th>\n",
              "      <th>Beneficios</th>\n",
              "      <th>ParticipoEvento</th>\n",
              "      <th>AsisteSucursal</th>\n",
              "      <th>DeudaMembresia</th>\n",
              "      <th>PagaporServicio</th>\n",
              "      <th>Churn</th>\n",
              "    </tr>\n",
              "  </thead>\n",
              "  <tbody>\n",
              "    <tr>\n",
              "      <th>0</th>\n",
              "      <td>Mujer</td>\n",
              "      <td>Regular</td>\n",
              "      <td>No</td>\n",
              "      <td>Solo Internet</td>\n",
              "      <td>67</td>\n",
              "      <td>31</td>\n",
              "      <td>No Accede a Beneficios</td>\n",
              "      <td>No Participa</td>\n",
              "      <td>Una o ninguna vez</td>\n",
              "      <td>No Deudor</td>\n",
              "      <td>16.90000</td>\n",
              "      <td>Finaliza Contrato</td>\n",
              "    </tr>\n",
              "    <tr>\n",
              "      <th>1</th>\n",
              "      <td>Mujer</td>\n",
              "      <td>Regular</td>\n",
              "      <td>Si</td>\n",
              "      <td>Solo Internet</td>\n",
              "      <td>63</td>\n",
              "      <td>42</td>\n",
              "      <td>Accede a Beneficios</td>\n",
              "      <td>No Participa</td>\n",
              "      <td>Una o ninguna vez</td>\n",
              "      <td>No Deudor</td>\n",
              "      <td>14.30000</td>\n",
              "      <td>Mantiene Contrato</td>\n",
              "    </tr>\n",
              "    <tr>\n",
              "      <th>2</th>\n",
              "      <td>Mujer</td>\n",
              "      <td>Regular</td>\n",
              "      <td>No</td>\n",
              "      <td>Internet y Telefono</td>\n",
              "      <td>37</td>\n",
              "      <td>37</td>\n",
              "      <td>No Accede a Beneficios</td>\n",
              "      <td>No Participa</td>\n",
              "      <td>Una o ninguna vez</td>\n",
              "      <td>No Deudor</td>\n",
              "      <td>19.40000</td>\n",
              "      <td>Mantiene Contrato</td>\n",
              "    </tr>\n",
              "    <tr>\n",
              "      <th>3</th>\n",
              "      <td>Mujer</td>\n",
              "      <td>Regular</td>\n",
              "      <td>No</td>\n",
              "      <td>Solo Internet</td>\n",
              "      <td>67</td>\n",
              "      <td>43</td>\n",
              "      <td>No Accede a Beneficios</td>\n",
              "      <td>No Participa</td>\n",
              "      <td>Una o ninguna vez</td>\n",
              "      <td>No Deudor</td>\n",
              "      <td>19.70000</td>\n",
              "      <td>Finaliza Contrato</td>\n",
              "    </tr>\n",
              "    <tr>\n",
              "      <th>4</th>\n",
              "      <td>Mujer</td>\n",
              "      <td>Regular</td>\n",
              "      <td>No</td>\n",
              "      <td>Solo Internet</td>\n",
              "      <td>75</td>\n",
              "      <td>44</td>\n",
              "      <td>No Accede a Beneficios</td>\n",
              "      <td>No Participa</td>\n",
              "      <td>Una o ninguna vez</td>\n",
              "      <td>No Deudor</td>\n",
              "      <td>15.80000</td>\n",
              "      <td>Mantiene Contrato</td>\n",
              "    </tr>\n",
              "  </tbody>\n",
              "</table>\n",
              "</div>\n",
              "    <div class=\"colab-df-buttons\">\n",
              "\n",
              "  <div class=\"colab-df-container\">\n",
              "    <button class=\"colab-df-convert\" onclick=\"convertToInteractive('df-511af8ae-d6c0-48a7-bf83-43746a907af0')\"\n",
              "            title=\"Convert this dataframe to an interactive table.\"\n",
              "            style=\"display:none;\">\n",
              "\n",
              "  <svg xmlns=\"http://www.w3.org/2000/svg\" height=\"24px\" viewBox=\"0 -960 960 960\">\n",
              "    <path d=\"M120-120v-720h720v720H120Zm60-500h600v-160H180v160Zm220 220h160v-160H400v160Zm0 220h160v-160H400v160ZM180-400h160v-160H180v160Zm440 0h160v-160H620v160ZM180-180h160v-160H180v160Zm440 0h160v-160H620v160Z\"/>\n",
              "  </svg>\n",
              "    </button>\n",
              "\n",
              "  <style>\n",
              "    .colab-df-container {\n",
              "      display:flex;\n",
              "      gap: 12px;\n",
              "    }\n",
              "\n",
              "    .colab-df-convert {\n",
              "      background-color: #E8F0FE;\n",
              "      border: none;\n",
              "      border-radius: 50%;\n",
              "      cursor: pointer;\n",
              "      display: none;\n",
              "      fill: #1967D2;\n",
              "      height: 32px;\n",
              "      padding: 0 0 0 0;\n",
              "      width: 32px;\n",
              "    }\n",
              "\n",
              "    .colab-df-convert:hover {\n",
              "      background-color: #E2EBFA;\n",
              "      box-shadow: 0px 1px 2px rgba(60, 64, 67, 0.3), 0px 1px 3px 1px rgba(60, 64, 67, 0.15);\n",
              "      fill: #174EA6;\n",
              "    }\n",
              "\n",
              "    .colab-df-buttons div {\n",
              "      margin-bottom: 4px;\n",
              "    }\n",
              "\n",
              "    [theme=dark] .colab-df-convert {\n",
              "      background-color: #3B4455;\n",
              "      fill: #D2E3FC;\n",
              "    }\n",
              "\n",
              "    [theme=dark] .colab-df-convert:hover {\n",
              "      background-color: #434B5C;\n",
              "      box-shadow: 0px 1px 3px 1px rgba(0, 0, 0, 0.15);\n",
              "      filter: drop-shadow(0px 1px 2px rgba(0, 0, 0, 0.3));\n",
              "      fill: #FFFFFF;\n",
              "    }\n",
              "  </style>\n",
              "\n",
              "    <script>\n",
              "      const buttonEl =\n",
              "        document.querySelector('#df-511af8ae-d6c0-48a7-bf83-43746a907af0 button.colab-df-convert');\n",
              "      buttonEl.style.display =\n",
              "        google.colab.kernel.accessAllowed ? 'block' : 'none';\n",
              "\n",
              "      async function convertToInteractive(key) {\n",
              "        const element = document.querySelector('#df-511af8ae-d6c0-48a7-bf83-43746a907af0');\n",
              "        const dataTable =\n",
              "          await google.colab.kernel.invokeFunction('convertToInteractive',\n",
              "                                                    [key], {});\n",
              "        if (!dataTable) return;\n",
              "\n",
              "        const docLinkHtml = 'Like what you see? Visit the ' +\n",
              "          '<a target=\"_blank\" href=https://colab.research.google.com/notebooks/data_table.ipynb>data table notebook</a>'\n",
              "          + ' to learn more about interactive tables.';\n",
              "        element.innerHTML = '';\n",
              "        dataTable['output_type'] = 'display_data';\n",
              "        await google.colab.output.renderOutput(dataTable, element);\n",
              "        const docLink = document.createElement('div');\n",
              "        docLink.innerHTML = docLinkHtml;\n",
              "        element.appendChild(docLink);\n",
              "      }\n",
              "    </script>\n",
              "  </div>\n",
              "\n",
              "\n",
              "<div id=\"df-e7b75cc5-69fa-42fb-b891-d0b8c1ad3456\">\n",
              "  <button class=\"colab-df-quickchart\" onclick=\"quickchart('df-e7b75cc5-69fa-42fb-b891-d0b8c1ad3456')\"\n",
              "            title=\"Suggest charts\"\n",
              "            style=\"display:none;\">\n",
              "\n",
              "<svg xmlns=\"http://www.w3.org/2000/svg\" height=\"24px\"viewBox=\"0 0 24 24\"\n",
              "     width=\"24px\">\n",
              "    <g>\n",
              "        <path d=\"M19 3H5c-1.1 0-2 .9-2 2v14c0 1.1.9 2 2 2h14c1.1 0 2-.9 2-2V5c0-1.1-.9-2-2-2zM9 17H7v-7h2v7zm4 0h-2V7h2v10zm4 0h-2v-4h2v4z\"/>\n",
              "    </g>\n",
              "</svg>\n",
              "  </button>\n",
              "\n",
              "<style>\n",
              "  .colab-df-quickchart {\n",
              "      --bg-color: #E8F0FE;\n",
              "      --fill-color: #1967D2;\n",
              "      --hover-bg-color: #E2EBFA;\n",
              "      --hover-fill-color: #174EA6;\n",
              "      --disabled-fill-color: #AAA;\n",
              "      --disabled-bg-color: #DDD;\n",
              "  }\n",
              "\n",
              "  [theme=dark] .colab-df-quickchart {\n",
              "      --bg-color: #3B4455;\n",
              "      --fill-color: #D2E3FC;\n",
              "      --hover-bg-color: #434B5C;\n",
              "      --hover-fill-color: #FFFFFF;\n",
              "      --disabled-bg-color: #3B4455;\n",
              "      --disabled-fill-color: #666;\n",
              "  }\n",
              "\n",
              "  .colab-df-quickchart {\n",
              "    background-color: var(--bg-color);\n",
              "    border: none;\n",
              "    border-radius: 50%;\n",
              "    cursor: pointer;\n",
              "    display: none;\n",
              "    fill: var(--fill-color);\n",
              "    height: 32px;\n",
              "    padding: 0;\n",
              "    width: 32px;\n",
              "  }\n",
              "\n",
              "  .colab-df-quickchart:hover {\n",
              "    background-color: var(--hover-bg-color);\n",
              "    box-shadow: 0 1px 2px rgba(60, 64, 67, 0.3), 0 1px 3px 1px rgba(60, 64, 67, 0.15);\n",
              "    fill: var(--button-hover-fill-color);\n",
              "  }\n",
              "\n",
              "  .colab-df-quickchart-complete:disabled,\n",
              "  .colab-df-quickchart-complete:disabled:hover {\n",
              "    background-color: var(--disabled-bg-color);\n",
              "    fill: var(--disabled-fill-color);\n",
              "    box-shadow: none;\n",
              "  }\n",
              "\n",
              "  .colab-df-spinner {\n",
              "    border: 2px solid var(--fill-color);\n",
              "    border-color: transparent;\n",
              "    border-bottom-color: var(--fill-color);\n",
              "    animation:\n",
              "      spin 1s steps(1) infinite;\n",
              "  }\n",
              "\n",
              "  @keyframes spin {\n",
              "    0% {\n",
              "      border-color: transparent;\n",
              "      border-bottom-color: var(--fill-color);\n",
              "      border-left-color: var(--fill-color);\n",
              "    }\n",
              "    20% {\n",
              "      border-color: transparent;\n",
              "      border-left-color: var(--fill-color);\n",
              "      border-top-color: var(--fill-color);\n",
              "    }\n",
              "    30% {\n",
              "      border-color: transparent;\n",
              "      border-left-color: var(--fill-color);\n",
              "      border-top-color: var(--fill-color);\n",
              "      border-right-color: var(--fill-color);\n",
              "    }\n",
              "    40% {\n",
              "      border-color: transparent;\n",
              "      border-right-color: var(--fill-color);\n",
              "      border-top-color: var(--fill-color);\n",
              "    }\n",
              "    60% {\n",
              "      border-color: transparent;\n",
              "      border-right-color: var(--fill-color);\n",
              "    }\n",
              "    80% {\n",
              "      border-color: transparent;\n",
              "      border-right-color: var(--fill-color);\n",
              "      border-bottom-color: var(--fill-color);\n",
              "    }\n",
              "    90% {\n",
              "      border-color: transparent;\n",
              "      border-bottom-color: var(--fill-color);\n",
              "    }\n",
              "  }\n",
              "</style>\n",
              "\n",
              "  <script>\n",
              "    async function quickchart(key) {\n",
              "      const quickchartButtonEl =\n",
              "        document.querySelector('#' + key + ' button');\n",
              "      quickchartButtonEl.disabled = true;  // To prevent multiple clicks.\n",
              "      quickchartButtonEl.classList.add('colab-df-spinner');\n",
              "      try {\n",
              "        const charts = await google.colab.kernel.invokeFunction(\n",
              "            'suggestCharts', [key], {});\n",
              "      } catch (error) {\n",
              "        console.error('Error during call to suggestCharts:', error);\n",
              "      }\n",
              "      quickchartButtonEl.classList.remove('colab-df-spinner');\n",
              "      quickchartButtonEl.classList.add('colab-df-quickchart-complete');\n",
              "    }\n",
              "    (() => {\n",
              "      let quickchartButtonEl =\n",
              "        document.querySelector('#df-e7b75cc5-69fa-42fb-b891-d0b8c1ad3456 button');\n",
              "      quickchartButtonEl.style.display =\n",
              "        google.colab.kernel.accessAllowed ? 'block' : 'none';\n",
              "    })();\n",
              "  </script>\n",
              "</div>\n",
              "\n",
              "    </div>\n",
              "  </div>\n"
            ],
            "application/vnd.google.colaboratory.intrinsic+json": {
              "type": "dataframe",
              "summary": "{\n  \"name\": \"display(data\",\n  \"rows\": 5,\n  \"fields\": [\n    {\n      \"column\": \"Sexo\",\n      \"properties\": {\n        \"dtype\": \"category\",\n        \"num_unique_values\": 1,\n        \"samples\": [\n          \"Mujer\"\n        ],\n        \"semantic_type\": \"\",\n        \"description\": \"\"\n      }\n    },\n    {\n      \"column\": \"TipoCliente\",\n      \"properties\": {\n        \"dtype\": \"category\",\n        \"num_unique_values\": 1,\n        \"samples\": [\n          \"Regular\"\n        ],\n        \"semantic_type\": \"\",\n        \"description\": \"\"\n      }\n    },\n    {\n      \"column\": \"MasUnPlan\",\n      \"properties\": {\n        \"dtype\": \"category\",\n        \"num_unique_values\": 2,\n        \"samples\": [\n          \"Si\"\n        ],\n        \"semantic_type\": \"\",\n        \"description\": \"\"\n      }\n    },\n    {\n      \"column\": \"MultipleServicios\",\n      \"properties\": {\n        \"dtype\": \"category\",\n        \"num_unique_values\": 2,\n        \"samples\": [\n          \"Internet y Telefono\"\n        ],\n        \"semantic_type\": \"\",\n        \"description\": \"\"\n      }\n    },\n    {\n      \"column\": \"Antiguedad\",\n      \"properties\": {\n        \"dtype\": \"number\",\n        \"std\": 14,\n        \"min\": 37,\n        \"max\": 75,\n        \"num_unique_values\": 4,\n        \"samples\": [\n          63\n        ],\n        \"semantic_type\": \"\",\n        \"description\": \"\"\n      }\n    },\n    {\n      \"column\": \"Edad\",\n      \"properties\": {\n        \"dtype\": \"number\",\n        \"std\": 5,\n        \"min\": 31,\n        \"max\": 44,\n        \"num_unique_values\": 5,\n        \"samples\": [\n          42\n        ],\n        \"semantic_type\": \"\",\n        \"description\": \"\"\n      }\n    },\n    {\n      \"column\": \"Beneficios\",\n      \"properties\": {\n        \"dtype\": \"category\",\n        \"num_unique_values\": 2,\n        \"samples\": [\n          \"Accede a Beneficios\"\n        ],\n        \"semantic_type\": \"\",\n        \"description\": \"\"\n      }\n    },\n    {\n      \"column\": \"ParticipoEvento\",\n      \"properties\": {\n        \"dtype\": \"category\",\n        \"num_unique_values\": 1,\n        \"samples\": [\n          \"No Participa\"\n        ],\n        \"semantic_type\": \"\",\n        \"description\": \"\"\n      }\n    },\n    {\n      \"column\": \"AsisteSucursal\",\n      \"properties\": {\n        \"dtype\": \"category\",\n        \"num_unique_values\": 1,\n        \"samples\": [\n          \"Una o ninguna vez\"\n        ],\n        \"semantic_type\": \"\",\n        \"description\": \"\"\n      }\n    },\n    {\n      \"column\": \"DeudaMembresia\",\n      \"properties\": {\n        \"dtype\": \"category\",\n        \"num_unique_values\": 1,\n        \"samples\": [\n          \"No Deudor\"\n        ],\n        \"semantic_type\": \"\",\n        \"description\": \"\"\n      }\n    },\n    {\n      \"column\": \"PagaporServicio\",\n      \"properties\": {\n        \"dtype\": \"number\",\n        \"std\": 2.320991167583366,\n        \"min\": 14.3,\n        \"max\": 19.7,\n        \"num_unique_values\": 5,\n        \"samples\": [\n          14.3\n        ],\n        \"semantic_type\": \"\",\n        \"description\": \"\"\n      }\n    },\n    {\n      \"column\": \"Churn\",\n      \"properties\": {\n        \"dtype\": \"category\",\n        \"num_unique_values\": 2,\n        \"samples\": [\n          \"Mantiene Contrato\"\n        ],\n        \"semantic_type\": \"\",\n        \"description\": \"\"\n      }\n    }\n  ]\n}"
            }
          },
          "metadata": {}
        }
      ],
      "source": [
        "# Librerías a utilizar\n",
        "import numpy as np\n",
        "import pandas as pd\n",
        "import matplotlib.pyplot as plt\n",
        "import seaborn as sns\n",
        "\n",
        "# Opciones para evitar notación científica\n",
        "np.set_printoptions(suppress=True)\n",
        "pd.set_option('display.float_format', lambda x: f\"{x:0.5f}\")\n",
        "\n",
        "# Configuración de los gráficos\n",
        "plt.style.use(\"ggplot\")\n",
        "%config InlineBackend.figure_format = \"retina\"\n",
        "\n",
        "# Cargamos datos\n",
        "data = pd.read_excel(\"EmpresaServicios.xlsx\")\n",
        "display(data.head())"
      ]
    },
    {
      "cell_type": "code",
      "execution_count": null,
      "metadata": {
        "id": "4Bhe_c2JBl7Z",
        "outputId": "5b8fc239-225c-49e9-c2ca-4d41cfffba97",
        "colab": {
          "base_uri": "https://localhost:8080/",
          "height": 143
        }
      },
      "outputs": [
        {
          "output_type": "display_data",
          "data": {
            "text/plain": [
              "                   Cuenta  Porcentaje\n",
              "Churn                                \n",
              "Mantiene Contrato    1920     0.64000\n",
              "Finaliza Contrato    1080     0.36000"
            ],
            "text/html": [
              "\n",
              "  <div id=\"df-e677bc6c-c903-4dd4-af4f-f8a0af1e7a29\" class=\"colab-df-container\">\n",
              "    <div>\n",
              "<style scoped>\n",
              "    .dataframe tbody tr th:only-of-type {\n",
              "        vertical-align: middle;\n",
              "    }\n",
              "\n",
              "    .dataframe tbody tr th {\n",
              "        vertical-align: top;\n",
              "    }\n",
              "\n",
              "    .dataframe thead th {\n",
              "        text-align: right;\n",
              "    }\n",
              "</style>\n",
              "<table border=\"1\" class=\"dataframe\">\n",
              "  <thead>\n",
              "    <tr style=\"text-align: right;\">\n",
              "      <th></th>\n",
              "      <th>Cuenta</th>\n",
              "      <th>Porcentaje</th>\n",
              "    </tr>\n",
              "    <tr>\n",
              "      <th>Churn</th>\n",
              "      <th></th>\n",
              "      <th></th>\n",
              "    </tr>\n",
              "  </thead>\n",
              "  <tbody>\n",
              "    <tr>\n",
              "      <th>Mantiene Contrato</th>\n",
              "      <td>1920</td>\n",
              "      <td>0.64000</td>\n",
              "    </tr>\n",
              "    <tr>\n",
              "      <th>Finaliza Contrato</th>\n",
              "      <td>1080</td>\n",
              "      <td>0.36000</td>\n",
              "    </tr>\n",
              "  </tbody>\n",
              "</table>\n",
              "</div>\n",
              "    <div class=\"colab-df-buttons\">\n",
              "\n",
              "  <div class=\"colab-df-container\">\n",
              "    <button class=\"colab-df-convert\" onclick=\"convertToInteractive('df-e677bc6c-c903-4dd4-af4f-f8a0af1e7a29')\"\n",
              "            title=\"Convert this dataframe to an interactive table.\"\n",
              "            style=\"display:none;\">\n",
              "\n",
              "  <svg xmlns=\"http://www.w3.org/2000/svg\" height=\"24px\" viewBox=\"0 -960 960 960\">\n",
              "    <path d=\"M120-120v-720h720v720H120Zm60-500h600v-160H180v160Zm220 220h160v-160H400v160Zm0 220h160v-160H400v160ZM180-400h160v-160H180v160Zm440 0h160v-160H620v160ZM180-180h160v-160H180v160Zm440 0h160v-160H620v160Z\"/>\n",
              "  </svg>\n",
              "    </button>\n",
              "\n",
              "  <style>\n",
              "    .colab-df-container {\n",
              "      display:flex;\n",
              "      gap: 12px;\n",
              "    }\n",
              "\n",
              "    .colab-df-convert {\n",
              "      background-color: #E8F0FE;\n",
              "      border: none;\n",
              "      border-radius: 50%;\n",
              "      cursor: pointer;\n",
              "      display: none;\n",
              "      fill: #1967D2;\n",
              "      height: 32px;\n",
              "      padding: 0 0 0 0;\n",
              "      width: 32px;\n",
              "    }\n",
              "\n",
              "    .colab-df-convert:hover {\n",
              "      background-color: #E2EBFA;\n",
              "      box-shadow: 0px 1px 2px rgba(60, 64, 67, 0.3), 0px 1px 3px 1px rgba(60, 64, 67, 0.15);\n",
              "      fill: #174EA6;\n",
              "    }\n",
              "\n",
              "    .colab-df-buttons div {\n",
              "      margin-bottom: 4px;\n",
              "    }\n",
              "\n",
              "    [theme=dark] .colab-df-convert {\n",
              "      background-color: #3B4455;\n",
              "      fill: #D2E3FC;\n",
              "    }\n",
              "\n",
              "    [theme=dark] .colab-df-convert:hover {\n",
              "      background-color: #434B5C;\n",
              "      box-shadow: 0px 1px 3px 1px rgba(0, 0, 0, 0.15);\n",
              "      filter: drop-shadow(0px 1px 2px rgba(0, 0, 0, 0.3));\n",
              "      fill: #FFFFFF;\n",
              "    }\n",
              "  </style>\n",
              "\n",
              "    <script>\n",
              "      const buttonEl =\n",
              "        document.querySelector('#df-e677bc6c-c903-4dd4-af4f-f8a0af1e7a29 button.colab-df-convert');\n",
              "      buttonEl.style.display =\n",
              "        google.colab.kernel.accessAllowed ? 'block' : 'none';\n",
              "\n",
              "      async function convertToInteractive(key) {\n",
              "        const element = document.querySelector('#df-e677bc6c-c903-4dd4-af4f-f8a0af1e7a29');\n",
              "        const dataTable =\n",
              "          await google.colab.kernel.invokeFunction('convertToInteractive',\n",
              "                                                    [key], {});\n",
              "        if (!dataTable) return;\n",
              "\n",
              "        const docLinkHtml = 'Like what you see? Visit the ' +\n",
              "          '<a target=\"_blank\" href=https://colab.research.google.com/notebooks/data_table.ipynb>data table notebook</a>'\n",
              "          + ' to learn more about interactive tables.';\n",
              "        element.innerHTML = '';\n",
              "        dataTable['output_type'] = 'display_data';\n",
              "        await google.colab.output.renderOutput(dataTable, element);\n",
              "        const docLink = document.createElement('div');\n",
              "        docLink.innerHTML = docLinkHtml;\n",
              "        element.appendChild(docLink);\n",
              "      }\n",
              "    </script>\n",
              "  </div>\n",
              "\n",
              "\n",
              "<div id=\"df-036fd9b6-a52d-4792-b3ae-246df25b427c\">\n",
              "  <button class=\"colab-df-quickchart\" onclick=\"quickchart('df-036fd9b6-a52d-4792-b3ae-246df25b427c')\"\n",
              "            title=\"Suggest charts\"\n",
              "            style=\"display:none;\">\n",
              "\n",
              "<svg xmlns=\"http://www.w3.org/2000/svg\" height=\"24px\"viewBox=\"0 0 24 24\"\n",
              "     width=\"24px\">\n",
              "    <g>\n",
              "        <path d=\"M19 3H5c-1.1 0-2 .9-2 2v14c0 1.1.9 2 2 2h14c1.1 0 2-.9 2-2V5c0-1.1-.9-2-2-2zM9 17H7v-7h2v7zm4 0h-2V7h2v10zm4 0h-2v-4h2v4z\"/>\n",
              "    </g>\n",
              "</svg>\n",
              "  </button>\n",
              "\n",
              "<style>\n",
              "  .colab-df-quickchart {\n",
              "      --bg-color: #E8F0FE;\n",
              "      --fill-color: #1967D2;\n",
              "      --hover-bg-color: #E2EBFA;\n",
              "      --hover-fill-color: #174EA6;\n",
              "      --disabled-fill-color: #AAA;\n",
              "      --disabled-bg-color: #DDD;\n",
              "  }\n",
              "\n",
              "  [theme=dark] .colab-df-quickchart {\n",
              "      --bg-color: #3B4455;\n",
              "      --fill-color: #D2E3FC;\n",
              "      --hover-bg-color: #434B5C;\n",
              "      --hover-fill-color: #FFFFFF;\n",
              "      --disabled-bg-color: #3B4455;\n",
              "      --disabled-fill-color: #666;\n",
              "  }\n",
              "\n",
              "  .colab-df-quickchart {\n",
              "    background-color: var(--bg-color);\n",
              "    border: none;\n",
              "    border-radius: 50%;\n",
              "    cursor: pointer;\n",
              "    display: none;\n",
              "    fill: var(--fill-color);\n",
              "    height: 32px;\n",
              "    padding: 0;\n",
              "    width: 32px;\n",
              "  }\n",
              "\n",
              "  .colab-df-quickchart:hover {\n",
              "    background-color: var(--hover-bg-color);\n",
              "    box-shadow: 0 1px 2px rgba(60, 64, 67, 0.3), 0 1px 3px 1px rgba(60, 64, 67, 0.15);\n",
              "    fill: var(--button-hover-fill-color);\n",
              "  }\n",
              "\n",
              "  .colab-df-quickchart-complete:disabled,\n",
              "  .colab-df-quickchart-complete:disabled:hover {\n",
              "    background-color: var(--disabled-bg-color);\n",
              "    fill: var(--disabled-fill-color);\n",
              "    box-shadow: none;\n",
              "  }\n",
              "\n",
              "  .colab-df-spinner {\n",
              "    border: 2px solid var(--fill-color);\n",
              "    border-color: transparent;\n",
              "    border-bottom-color: var(--fill-color);\n",
              "    animation:\n",
              "      spin 1s steps(1) infinite;\n",
              "  }\n",
              "\n",
              "  @keyframes spin {\n",
              "    0% {\n",
              "      border-color: transparent;\n",
              "      border-bottom-color: var(--fill-color);\n",
              "      border-left-color: var(--fill-color);\n",
              "    }\n",
              "    20% {\n",
              "      border-color: transparent;\n",
              "      border-left-color: var(--fill-color);\n",
              "      border-top-color: var(--fill-color);\n",
              "    }\n",
              "    30% {\n",
              "      border-color: transparent;\n",
              "      border-left-color: var(--fill-color);\n",
              "      border-top-color: var(--fill-color);\n",
              "      border-right-color: var(--fill-color);\n",
              "    }\n",
              "    40% {\n",
              "      border-color: transparent;\n",
              "      border-right-color: var(--fill-color);\n",
              "      border-top-color: var(--fill-color);\n",
              "    }\n",
              "    60% {\n",
              "      border-color: transparent;\n",
              "      border-right-color: var(--fill-color);\n",
              "    }\n",
              "    80% {\n",
              "      border-color: transparent;\n",
              "      border-right-color: var(--fill-color);\n",
              "      border-bottom-color: var(--fill-color);\n",
              "    }\n",
              "    90% {\n",
              "      border-color: transparent;\n",
              "      border-bottom-color: var(--fill-color);\n",
              "    }\n",
              "  }\n",
              "</style>\n",
              "\n",
              "  <script>\n",
              "    async function quickchart(key) {\n",
              "      const quickchartButtonEl =\n",
              "        document.querySelector('#' + key + ' button');\n",
              "      quickchartButtonEl.disabled = true;  // To prevent multiple clicks.\n",
              "      quickchartButtonEl.classList.add('colab-df-spinner');\n",
              "      try {\n",
              "        const charts = await google.colab.kernel.invokeFunction(\n",
              "            'suggestCharts', [key], {});\n",
              "      } catch (error) {\n",
              "        console.error('Error during call to suggestCharts:', error);\n",
              "      }\n",
              "      quickchartButtonEl.classList.remove('colab-df-spinner');\n",
              "      quickchartButtonEl.classList.add('colab-df-quickchart-complete');\n",
              "    }\n",
              "    (() => {\n",
              "      let quickchartButtonEl =\n",
              "        document.querySelector('#df-036fd9b6-a52d-4792-b3ae-246df25b427c button');\n",
              "      quickchartButtonEl.style.display =\n",
              "        google.colab.kernel.accessAllowed ? 'block' : 'none';\n",
              "    })();\n",
              "  </script>\n",
              "</div>\n",
              "\n",
              "  <div id=\"id_f6a7a710-9ebd-4fcd-8adf-983caddf6c89\">\n",
              "    <style>\n",
              "      .colab-df-generate {\n",
              "        background-color: #E8F0FE;\n",
              "        border: none;\n",
              "        border-radius: 50%;\n",
              "        cursor: pointer;\n",
              "        display: none;\n",
              "        fill: #1967D2;\n",
              "        height: 32px;\n",
              "        padding: 0 0 0 0;\n",
              "        width: 32px;\n",
              "      }\n",
              "\n",
              "      .colab-df-generate:hover {\n",
              "        background-color: #E2EBFA;\n",
              "        box-shadow: 0px 1px 2px rgba(60, 64, 67, 0.3), 0px 1px 3px 1px rgba(60, 64, 67, 0.15);\n",
              "        fill: #174EA6;\n",
              "      }\n",
              "\n",
              "      [theme=dark] .colab-df-generate {\n",
              "        background-color: #3B4455;\n",
              "        fill: #D2E3FC;\n",
              "      }\n",
              "\n",
              "      [theme=dark] .colab-df-generate:hover {\n",
              "        background-color: #434B5C;\n",
              "        box-shadow: 0px 1px 3px 1px rgba(0, 0, 0, 0.15);\n",
              "        filter: drop-shadow(0px 1px 2px rgba(0, 0, 0, 0.3));\n",
              "        fill: #FFFFFF;\n",
              "      }\n",
              "    </style>\n",
              "    <button class=\"colab-df-generate\" onclick=\"generateWithVariable('tabla')\"\n",
              "            title=\"Generate code using this dataframe.\"\n",
              "            style=\"display:none;\">\n",
              "\n",
              "  <svg xmlns=\"http://www.w3.org/2000/svg\" height=\"24px\"viewBox=\"0 0 24 24\"\n",
              "       width=\"24px\">\n",
              "    <path d=\"M7,19H8.4L18.45,9,17,7.55,7,17.6ZM5,21V16.75L18.45,3.32a2,2,0,0,1,2.83,0l1.4,1.43a1.91,1.91,0,0,1,.58,1.4,1.91,1.91,0,0,1-.58,1.4L9.25,21ZM18.45,9,17,7.55Zm-12,3A5.31,5.31,0,0,0,4.9,8.1,5.31,5.31,0,0,0,1,6.5,5.31,5.31,0,0,0,4.9,4.9,5.31,5.31,0,0,0,6.5,1,5.31,5.31,0,0,0,8.1,4.9,5.31,5.31,0,0,0,12,6.5,5.46,5.46,0,0,0,6.5,12Z\"/>\n",
              "  </svg>\n",
              "    </button>\n",
              "    <script>\n",
              "      (() => {\n",
              "      const buttonEl =\n",
              "        document.querySelector('#id_f6a7a710-9ebd-4fcd-8adf-983caddf6c89 button.colab-df-generate');\n",
              "      buttonEl.style.display =\n",
              "        google.colab.kernel.accessAllowed ? 'block' : 'none';\n",
              "\n",
              "      buttonEl.onclick = () => {\n",
              "        google.colab.notebook.generateWithVariable('tabla');\n",
              "      }\n",
              "      })();\n",
              "    </script>\n",
              "  </div>\n",
              "\n",
              "    </div>\n",
              "  </div>\n"
            ],
            "application/vnd.google.colaboratory.intrinsic+json": {
              "type": "dataframe",
              "variable_name": "tabla",
              "summary": "{\n  \"name\": \"tabla\",\n  \"rows\": 2,\n  \"fields\": [\n    {\n      \"column\": \"Churn\",\n      \"properties\": {\n        \"dtype\": \"string\",\n        \"num_unique_values\": 2,\n        \"samples\": [\n          \"Finaliza Contrato\",\n          \"Mantiene Contrato\"\n        ],\n        \"semantic_type\": \"\",\n        \"description\": \"\"\n      }\n    },\n    {\n      \"column\": \"Cuenta\",\n      \"properties\": {\n        \"dtype\": \"number\",\n        \"std\": 593,\n        \"min\": 1080,\n        \"max\": 1920,\n        \"num_unique_values\": 2,\n        \"samples\": [\n          1080,\n          1920\n        ],\n        \"semantic_type\": \"\",\n        \"description\": \"\"\n      }\n    },\n    {\n      \"column\": \"Porcentaje\",\n      \"properties\": {\n        \"dtype\": \"number\",\n        \"std\": 0.19798989873223333,\n        \"min\": 0.36,\n        \"max\": 0.64,\n        \"num_unique_values\": 2,\n        \"samples\": [\n          0.36,\n          0.64\n        ],\n        \"semantic_type\": \"\",\n        \"description\": \"\"\n      }\n    }\n  ]\n}"
            }
          },
          "metadata": {}
        }
      ],
      "source": [
        "conteos     = data[\"Churn\"].value_counts()\n",
        "porcentajes = data[\"Churn\"].value_counts(normalize=True)\n",
        "\n",
        "tabla = pd.concat([conteos, porcentajes], axis=1)\n",
        "tabla.columns = [\"Cuenta\", \"Porcentaje\"]\n",
        "display(tabla)"
      ]
    },
    {
      "cell_type": "code",
      "source": [
        "%pip install estyp"
      ],
      "metadata": {
        "colab": {
          "base_uri": "https://localhost:8080/"
        },
        "id": "0-7gw2wO-OK5",
        "outputId": "0ee88867-5e65-4649-e1cd-428a6855c392"
      },
      "execution_count": null,
      "outputs": [
        {
          "output_type": "stream",
          "name": "stdout",
          "text": [
            "Collecting estyp\n",
            "  Downloading estyp-0.9.3-py3-none-any.whl (34 kB)\n",
            "Requirement already satisfied: numpy>=1.22.3 in /usr/local/lib/python3.10/dist-packages (from estyp) (1.25.2)\n",
            "Collecting scikit-learn>=1.3.0 (from estyp)\n",
            "  Downloading scikit_learn-1.5.1-cp310-cp310-manylinux_2_17_x86_64.manylinux2014_x86_64.whl (13.4 MB)\n",
            "\u001b[2K     \u001b[90m━━━━━━━━━━━━━━━━━━━━━━━━━━━━━━━━━━━━━━━━\u001b[0m \u001b[32m13.4/13.4 MB\u001b[0m \u001b[31m35.1 MB/s\u001b[0m eta \u001b[36m0:00:00\u001b[0m\n",
            "\u001b[?25hRequirement already satisfied: matplotlib>=3.4.3 in /usr/local/lib/python3.10/dist-packages (from estyp) (3.7.1)\n",
            "Requirement already satisfied: patsy>=0.5.3 in /usr/local/lib/python3.10/dist-packages (from estyp) (0.5.6)\n",
            "Requirement already satisfied: statsmodels>=0.13.5 in /usr/local/lib/python3.10/dist-packages (from estyp) (0.14.2)\n",
            "Requirement already satisfied: scipy>=1.10.1 in /usr/local/lib/python3.10/dist-packages (from estyp) (1.11.4)\n",
            "Collecting kmodes>=0.12.2 (from estyp)\n",
            "  Downloading kmodes-0.12.2-py2.py3-none-any.whl (20 kB)\n",
            "Requirement already satisfied: tqdm>=4.65.0 in /usr/local/lib/python3.10/dist-packages (from estyp) (4.66.4)\n",
            "Requirement already satisfied: joblib>=1.3.1 in /usr/local/lib/python3.10/dist-packages (from estyp) (1.4.2)\n",
            "Requirement already satisfied: contourpy>=1.0.1 in /usr/local/lib/python3.10/dist-packages (from matplotlib>=3.4.3->estyp) (1.2.1)\n",
            "Requirement already satisfied: cycler>=0.10 in /usr/local/lib/python3.10/dist-packages (from matplotlib>=3.4.3->estyp) (0.12.1)\n",
            "Requirement already satisfied: fonttools>=4.22.0 in /usr/local/lib/python3.10/dist-packages (from matplotlib>=3.4.3->estyp) (4.53.1)\n",
            "Requirement already satisfied: kiwisolver>=1.0.1 in /usr/local/lib/python3.10/dist-packages (from matplotlib>=3.4.3->estyp) (1.4.5)\n",
            "Requirement already satisfied: packaging>=20.0 in /usr/local/lib/python3.10/dist-packages (from matplotlib>=3.4.3->estyp) (24.1)\n",
            "Requirement already satisfied: pillow>=6.2.0 in /usr/local/lib/python3.10/dist-packages (from matplotlib>=3.4.3->estyp) (9.4.0)\n",
            "Requirement already satisfied: pyparsing>=2.3.1 in /usr/local/lib/python3.10/dist-packages (from matplotlib>=3.4.3->estyp) (3.1.2)\n",
            "Requirement already satisfied: python-dateutil>=2.7 in /usr/local/lib/python3.10/dist-packages (from matplotlib>=3.4.3->estyp) (2.8.2)\n",
            "Requirement already satisfied: six in /usr/local/lib/python3.10/dist-packages (from patsy>=0.5.3->estyp) (1.16.0)\n",
            "Requirement already satisfied: threadpoolctl>=3.1.0 in /usr/local/lib/python3.10/dist-packages (from scikit-learn>=1.3.0->estyp) (3.5.0)\n",
            "Requirement already satisfied: pandas!=2.1.0,>=1.4 in /usr/local/lib/python3.10/dist-packages (from statsmodels>=0.13.5->estyp) (2.0.3)\n",
            "Requirement already satisfied: pytz>=2020.1 in /usr/local/lib/python3.10/dist-packages (from pandas!=2.1.0,>=1.4->statsmodels>=0.13.5->estyp) (2023.4)\n",
            "Requirement already satisfied: tzdata>=2022.1 in /usr/local/lib/python3.10/dist-packages (from pandas!=2.1.0,>=1.4->statsmodels>=0.13.5->estyp) (2024.1)\n",
            "Installing collected packages: scikit-learn, kmodes, estyp\n",
            "  Attempting uninstall: scikit-learn\n",
            "    Found existing installation: scikit-learn 1.2.2\n",
            "    Uninstalling scikit-learn-1.2.2:\n",
            "      Successfully uninstalled scikit-learn-1.2.2\n",
            "Successfully installed estyp-0.9.3 kmodes-0.12.2 scikit-learn-1.5.1\n"
          ]
        }
      ]
    },
    {
      "cell_type": "code",
      "source": [
        "from estyp.testing import t_test\n",
        "\n",
        "t_test(data.query(\"Churn == 'Finaliza Contrato'\").Antiguedad, data.query(\"Churn == 'Mantiene Contrato'\").Antiguedad)"
      ],
      "metadata": {
        "colab": {
          "base_uri": "https://localhost:8080/"
        },
        "id": "TS2n08ET-dqZ",
        "outputId": "e1512c3c-099b-46d5-ad9e-d8ba5063641a"
      },
      "execution_count": null,
      "outputs": [
        {
          "output_type": "execute_result",
          "data": {
            "text/plain": [
              "\n",
              "    \u001b[1m\u001b[4mWelch's Two Sample t-test\u001b[0m\n",
              "    T = -13.6985 | df = 2221.90 | p-value = <0.0001\n",
              "    alternative hypothesis: true difference in means is not equal to 0\n",
              "    95 percent confidence interval:\n",
              "     -7.464062 -5.594618\n",
              "    sample estimates:\n",
              "      [mean of x, mean of y]: [54.047222, 60.576563]\n",
              "    "
            ]
          },
          "metadata": {},
          "execution_count": 5
        }
      ]
    },
    {
      "cell_type": "code",
      "execution_count": null,
      "metadata": {
        "id": "l_9RdBzTBl7Z",
        "outputId": "707a0543-5732-43e7-f554-76d135d41efe",
        "colab": {
          "base_uri": "https://localhost:8080/",
          "height": 735
        }
      },
      "outputs": [
        {
          "output_type": "display_data",
          "data": {
            "text/plain": [
              "Churn  Finaliza Contrato  Mantiene Contrato\n",
              "count         1080.00000         1920.00000\n",
              "mean            54.04722           60.57656\n",
              "std             12.56636           12.46901\n",
              "min             14.00000           18.00000\n",
              "25%             45.75000           52.00000\n",
              "50%             54.00000           61.00000\n",
              "75%             63.00000           69.00000\n",
              "max             97.00000           99.00000"
            ],
            "text/html": [
              "\n",
              "  <div id=\"df-06ac7e99-2194-41f7-9d99-e4dc1e9ae06e\" class=\"colab-df-container\">\n",
              "    <div>\n",
              "<style scoped>\n",
              "    .dataframe tbody tr th:only-of-type {\n",
              "        vertical-align: middle;\n",
              "    }\n",
              "\n",
              "    .dataframe tbody tr th {\n",
              "        vertical-align: top;\n",
              "    }\n",
              "\n",
              "    .dataframe thead th {\n",
              "        text-align: right;\n",
              "    }\n",
              "</style>\n",
              "<table border=\"1\" class=\"dataframe\">\n",
              "  <thead>\n",
              "    <tr style=\"text-align: right;\">\n",
              "      <th>Churn</th>\n",
              "      <th>Finaliza Contrato</th>\n",
              "      <th>Mantiene Contrato</th>\n",
              "    </tr>\n",
              "  </thead>\n",
              "  <tbody>\n",
              "    <tr>\n",
              "      <th>count</th>\n",
              "      <td>1080.00000</td>\n",
              "      <td>1920.00000</td>\n",
              "    </tr>\n",
              "    <tr>\n",
              "      <th>mean</th>\n",
              "      <td>54.04722</td>\n",
              "      <td>60.57656</td>\n",
              "    </tr>\n",
              "    <tr>\n",
              "      <th>std</th>\n",
              "      <td>12.56636</td>\n",
              "      <td>12.46901</td>\n",
              "    </tr>\n",
              "    <tr>\n",
              "      <th>min</th>\n",
              "      <td>14.00000</td>\n",
              "      <td>18.00000</td>\n",
              "    </tr>\n",
              "    <tr>\n",
              "      <th>25%</th>\n",
              "      <td>45.75000</td>\n",
              "      <td>52.00000</td>\n",
              "    </tr>\n",
              "    <tr>\n",
              "      <th>50%</th>\n",
              "      <td>54.00000</td>\n",
              "      <td>61.00000</td>\n",
              "    </tr>\n",
              "    <tr>\n",
              "      <th>75%</th>\n",
              "      <td>63.00000</td>\n",
              "      <td>69.00000</td>\n",
              "    </tr>\n",
              "    <tr>\n",
              "      <th>max</th>\n",
              "      <td>97.00000</td>\n",
              "      <td>99.00000</td>\n",
              "    </tr>\n",
              "  </tbody>\n",
              "</table>\n",
              "</div>\n",
              "    <div class=\"colab-df-buttons\">\n",
              "\n",
              "  <div class=\"colab-df-container\">\n",
              "    <button class=\"colab-df-convert\" onclick=\"convertToInteractive('df-06ac7e99-2194-41f7-9d99-e4dc1e9ae06e')\"\n",
              "            title=\"Convert this dataframe to an interactive table.\"\n",
              "            style=\"display:none;\">\n",
              "\n",
              "  <svg xmlns=\"http://www.w3.org/2000/svg\" height=\"24px\" viewBox=\"0 -960 960 960\">\n",
              "    <path d=\"M120-120v-720h720v720H120Zm60-500h600v-160H180v160Zm220 220h160v-160H400v160Zm0 220h160v-160H400v160ZM180-400h160v-160H180v160Zm440 0h160v-160H620v160ZM180-180h160v-160H180v160Zm440 0h160v-160H620v160Z\"/>\n",
              "  </svg>\n",
              "    </button>\n",
              "\n",
              "  <style>\n",
              "    .colab-df-container {\n",
              "      display:flex;\n",
              "      gap: 12px;\n",
              "    }\n",
              "\n",
              "    .colab-df-convert {\n",
              "      background-color: #E8F0FE;\n",
              "      border: none;\n",
              "      border-radius: 50%;\n",
              "      cursor: pointer;\n",
              "      display: none;\n",
              "      fill: #1967D2;\n",
              "      height: 32px;\n",
              "      padding: 0 0 0 0;\n",
              "      width: 32px;\n",
              "    }\n",
              "\n",
              "    .colab-df-convert:hover {\n",
              "      background-color: #E2EBFA;\n",
              "      box-shadow: 0px 1px 2px rgba(60, 64, 67, 0.3), 0px 1px 3px 1px rgba(60, 64, 67, 0.15);\n",
              "      fill: #174EA6;\n",
              "    }\n",
              "\n",
              "    .colab-df-buttons div {\n",
              "      margin-bottom: 4px;\n",
              "    }\n",
              "\n",
              "    [theme=dark] .colab-df-convert {\n",
              "      background-color: #3B4455;\n",
              "      fill: #D2E3FC;\n",
              "    }\n",
              "\n",
              "    [theme=dark] .colab-df-convert:hover {\n",
              "      background-color: #434B5C;\n",
              "      box-shadow: 0px 1px 3px 1px rgba(0, 0, 0, 0.15);\n",
              "      filter: drop-shadow(0px 1px 2px rgba(0, 0, 0, 0.3));\n",
              "      fill: #FFFFFF;\n",
              "    }\n",
              "  </style>\n",
              "\n",
              "    <script>\n",
              "      const buttonEl =\n",
              "        document.querySelector('#df-06ac7e99-2194-41f7-9d99-e4dc1e9ae06e button.colab-df-convert');\n",
              "      buttonEl.style.display =\n",
              "        google.colab.kernel.accessAllowed ? 'block' : 'none';\n",
              "\n",
              "      async function convertToInteractive(key) {\n",
              "        const element = document.querySelector('#df-06ac7e99-2194-41f7-9d99-e4dc1e9ae06e');\n",
              "        const dataTable =\n",
              "          await google.colab.kernel.invokeFunction('convertToInteractive',\n",
              "                                                    [key], {});\n",
              "        if (!dataTable) return;\n",
              "\n",
              "        const docLinkHtml = 'Like what you see? Visit the ' +\n",
              "          '<a target=\"_blank\" href=https://colab.research.google.com/notebooks/data_table.ipynb>data table notebook</a>'\n",
              "          + ' to learn more about interactive tables.';\n",
              "        element.innerHTML = '';\n",
              "        dataTable['output_type'] = 'display_data';\n",
              "        await google.colab.output.renderOutput(dataTable, element);\n",
              "        const docLink = document.createElement('div');\n",
              "        docLink.innerHTML = docLinkHtml;\n",
              "        element.appendChild(docLink);\n",
              "      }\n",
              "    </script>\n",
              "  </div>\n",
              "\n",
              "\n",
              "<div id=\"df-ae6cb137-97db-4e47-96c2-e77171f86434\">\n",
              "  <button class=\"colab-df-quickchart\" onclick=\"quickchart('df-ae6cb137-97db-4e47-96c2-e77171f86434')\"\n",
              "            title=\"Suggest charts\"\n",
              "            style=\"display:none;\">\n",
              "\n",
              "<svg xmlns=\"http://www.w3.org/2000/svg\" height=\"24px\"viewBox=\"0 0 24 24\"\n",
              "     width=\"24px\">\n",
              "    <g>\n",
              "        <path d=\"M19 3H5c-1.1 0-2 .9-2 2v14c0 1.1.9 2 2 2h14c1.1 0 2-.9 2-2V5c0-1.1-.9-2-2-2zM9 17H7v-7h2v7zm4 0h-2V7h2v10zm4 0h-2v-4h2v4z\"/>\n",
              "    </g>\n",
              "</svg>\n",
              "  </button>\n",
              "\n",
              "<style>\n",
              "  .colab-df-quickchart {\n",
              "      --bg-color: #E8F0FE;\n",
              "      --fill-color: #1967D2;\n",
              "      --hover-bg-color: #E2EBFA;\n",
              "      --hover-fill-color: #174EA6;\n",
              "      --disabled-fill-color: #AAA;\n",
              "      --disabled-bg-color: #DDD;\n",
              "  }\n",
              "\n",
              "  [theme=dark] .colab-df-quickchart {\n",
              "      --bg-color: #3B4455;\n",
              "      --fill-color: #D2E3FC;\n",
              "      --hover-bg-color: #434B5C;\n",
              "      --hover-fill-color: #FFFFFF;\n",
              "      --disabled-bg-color: #3B4455;\n",
              "      --disabled-fill-color: #666;\n",
              "  }\n",
              "\n",
              "  .colab-df-quickchart {\n",
              "    background-color: var(--bg-color);\n",
              "    border: none;\n",
              "    border-radius: 50%;\n",
              "    cursor: pointer;\n",
              "    display: none;\n",
              "    fill: var(--fill-color);\n",
              "    height: 32px;\n",
              "    padding: 0;\n",
              "    width: 32px;\n",
              "  }\n",
              "\n",
              "  .colab-df-quickchart:hover {\n",
              "    background-color: var(--hover-bg-color);\n",
              "    box-shadow: 0 1px 2px rgba(60, 64, 67, 0.3), 0 1px 3px 1px rgba(60, 64, 67, 0.15);\n",
              "    fill: var(--button-hover-fill-color);\n",
              "  }\n",
              "\n",
              "  .colab-df-quickchart-complete:disabled,\n",
              "  .colab-df-quickchart-complete:disabled:hover {\n",
              "    background-color: var(--disabled-bg-color);\n",
              "    fill: var(--disabled-fill-color);\n",
              "    box-shadow: none;\n",
              "  }\n",
              "\n",
              "  .colab-df-spinner {\n",
              "    border: 2px solid var(--fill-color);\n",
              "    border-color: transparent;\n",
              "    border-bottom-color: var(--fill-color);\n",
              "    animation:\n",
              "      spin 1s steps(1) infinite;\n",
              "  }\n",
              "\n",
              "  @keyframes spin {\n",
              "    0% {\n",
              "      border-color: transparent;\n",
              "      border-bottom-color: var(--fill-color);\n",
              "      border-left-color: var(--fill-color);\n",
              "    }\n",
              "    20% {\n",
              "      border-color: transparent;\n",
              "      border-left-color: var(--fill-color);\n",
              "      border-top-color: var(--fill-color);\n",
              "    }\n",
              "    30% {\n",
              "      border-color: transparent;\n",
              "      border-left-color: var(--fill-color);\n",
              "      border-top-color: var(--fill-color);\n",
              "      border-right-color: var(--fill-color);\n",
              "    }\n",
              "    40% {\n",
              "      border-color: transparent;\n",
              "      border-right-color: var(--fill-color);\n",
              "      border-top-color: var(--fill-color);\n",
              "    }\n",
              "    60% {\n",
              "      border-color: transparent;\n",
              "      border-right-color: var(--fill-color);\n",
              "    }\n",
              "    80% {\n",
              "      border-color: transparent;\n",
              "      border-right-color: var(--fill-color);\n",
              "      border-bottom-color: var(--fill-color);\n",
              "    }\n",
              "    90% {\n",
              "      border-color: transparent;\n",
              "      border-bottom-color: var(--fill-color);\n",
              "    }\n",
              "  }\n",
              "</style>\n",
              "\n",
              "  <script>\n",
              "    async function quickchart(key) {\n",
              "      const quickchartButtonEl =\n",
              "        document.querySelector('#' + key + ' button');\n",
              "      quickchartButtonEl.disabled = true;  // To prevent multiple clicks.\n",
              "      quickchartButtonEl.classList.add('colab-df-spinner');\n",
              "      try {\n",
              "        const charts = await google.colab.kernel.invokeFunction(\n",
              "            'suggestCharts', [key], {});\n",
              "      } catch (error) {\n",
              "        console.error('Error during call to suggestCharts:', error);\n",
              "      }\n",
              "      quickchartButtonEl.classList.remove('colab-df-spinner');\n",
              "      quickchartButtonEl.classList.add('colab-df-quickchart-complete');\n",
              "    }\n",
              "    (() => {\n",
              "      let quickchartButtonEl =\n",
              "        document.querySelector('#df-ae6cb137-97db-4e47-96c2-e77171f86434 button');\n",
              "      quickchartButtonEl.style.display =\n",
              "        google.colab.kernel.accessAllowed ? 'block' : 'none';\n",
              "    })();\n",
              "  </script>\n",
              "</div>\n",
              "\n",
              "    </div>\n",
              "  </div>\n"
            ],
            "application/vnd.google.colaboratory.intrinsic+json": {
              "type": "dataframe",
              "summary": "{\n  \"name\": \");\",\n  \"rows\": 8,\n  \"fields\": [\n    {\n      \"column\": \"Finaliza Contrato\",\n      \"properties\": {\n        \"dtype\": \"number\",\n        \"std\": 365.64678302706164,\n        \"min\": 12.566361074139943,\n        \"max\": 1080.0,\n        \"num_unique_values\": 8,\n        \"samples\": [\n          54.047222222222224,\n          54.0,\n          1080.0\n        ],\n        \"semantic_type\": \"\",\n        \"description\": \"\"\n      }\n    },\n    {\n      \"column\": \"Mantiene Contrato\",\n      \"properties\": {\n        \"dtype\": \"number\",\n        \"std\": 660.6113925756752,\n        \"min\": 12.469007860105494,\n        \"max\": 1920.0,\n        \"num_unique_values\": 8,\n        \"samples\": [\n          60.5765625,\n          61.0,\n          1920.0\n        ],\n        \"semantic_type\": \"\",\n        \"description\": \"\"\n      }\n    }\n  ]\n}"
            }
          },
          "metadata": {}
        },
        {
          "output_type": "display_data",
          "data": {
            "text/plain": [
              "<Figure size 640x480 with 1 Axes>"
            ],
            "image/png": "[encoded data removed]"
          },
          "metadata": {
            "image/png": {
              "width": 574,
              "height": 435
            }
          }
        }
      ],
      "source": [
        "antiguedad_segun_churn = data.groupby(\"Churn\")[\"Antiguedad\"].describe()\n",
        "display(antiguedad_segun_churn.T)\n",
        "sns.violinplot(\n",
        "    data  = data,\n",
        "    x     = \"Churn\",\n",
        "    y     = \"Antiguedad\",\n",
        "    order = [\"Mantiene Contrato\", \"Finaliza Contrato\"]\n",
        ");"
      ]
    },
    {
      "cell_type": "markdown",
      "metadata": {
        "id": "xY-IzJFrBl7Z"
      },
      "source": [
        "El modelo que buscamos realizar considera solo la antigüedad del cliente y es el siguiente:\n",
        "\n",
        "$$\n",
        "\\log{\\left(\\pi_i \\over 1 - \\pi_i\\right)} = \\beta_0 + \\beta_1 \\cdot \\text{Antigüedad}_i\n",
        "$$\n"
      ]
    },
    {
      "cell_type": "markdown",
      "metadata": {
        "id": "ldbSAONTBl7Z"
      },
      "source": [
        "Para realizarlo en Python, utilizaremos el módulo `api` la librería `statsmodels` nuevamente."
      ]
    },
    {
      "cell_type": "code",
      "execution_count": null,
      "metadata": {
        "id": "zercxVmoBl7Z"
      },
      "outputs": [],
      "source": [
        "import statsmodels.api as sm"
      ]
    },
    {
      "cell_type": "markdown",
      "metadata": {
        "id": "5Vqs9zHmBl7Z"
      },
      "source": [
        "Para realizar el modelo, utilizaremos la clase `Logit` del módulo `api` que cargamos previamente. Para utilizar esta clase, la variable respuesta debe estar codificada con los valores 0 y 1 (donde 1 significa que ocurrió el evento de interés)."
      ]
    },
    {
      "cell_type": "code",
      "execution_count": null,
      "metadata": {
        "id": "lGfH4BCvBl7Z"
      },
      "outputs": [],
      "source": [
        "data[\"Churn_num\"] = np.where(data[\"Churn\"] == \"Finaliza Contrato\", 1, 0)"
      ]
    },
    {
      "cell_type": "code",
      "execution_count": null,
      "metadata": {
        "id": "g3YFILOFBl7a",
        "outputId": "81ce4fd3-0fa6-428d-8e30-f2d6139fdc58"
      },
      "outputs": [
        {
          "name": "stdout",
          "output_type": "stream",
          "text": [
            "Optimization terminated successfully.\n",
            "         Current function value: 0.623008\n",
            "         Iterations 5\n"
          ]
        },
        {
          "data": {
            "text/html": [
              "<table class=\"simpletable\">\n",
              "<tr>\n",
              "        <td>Model:</td>              <td>Logit</td>           <td>Method:</td>          <td>MLE</td>   \n",
              "</tr>\n",
              "<tr>\n",
              "  <td>Dependent Variable:</td>     <td>Churn_num</td>    <td>Pseudo R-squared:</td>    <td>0.047</td>  \n",
              "</tr>\n",
              "<tr>\n",
              "         <td>Date:</td>        <td>2023-10-18 17:13</td>       <td>AIC:</td>         <td>3742.0456</td>\n",
              "</tr>\n",
              "<tr>\n",
              "   <td>No. Observations:</td>        <td>3000</td>             <td>BIC:</td>         <td>3754.0583</td>\n",
              "</tr>\n",
              "<tr>\n",
              "       <td>Df Model:</td>              <td>1</td>         <td>Log-Likelihood:</td>    <td>-1869.0</td> \n",
              "</tr>\n",
              "<tr>\n",
              "     <td>Df Residuals:</td>          <td>2998</td>           <td>LL-Null:</td>        <td>-1960.3</td> \n",
              "</tr>\n",
              "<tr>\n",
              "      <td>Converged:</td>           <td>1.0000</td>        <td>LLR p-value:</td>    <td>1.4046e-41</td>\n",
              "</tr>\n",
              "<tr>\n",
              "    <td>No. Iterations:</td>        <td>5.0000</td>           <td>Scale:</td>         <td>1.0000</td>  \n",
              "</tr>\n",
              "</table>\n",
              "<table class=\"simpletable\">\n",
              "<tr>\n",
              "       <td></td>       <th>Coef.</th>  <th>Std.Err.</th>     <th>z</th>     <th>P>|z|</th> <th>[0.025</th>  <th>0.975]</th> \n",
              "</tr>\n",
              "<tr>\n",
              "  <th>Intercept</th>  <td>1.8106</td>   <td>0.1859</td>   <td>9.7388</td>  <td>0.0000</td> <td>1.4462</td>  <td>2.1749</td> \n",
              "</tr>\n",
              "<tr>\n",
              "  <th>Antiguedad</th> <td>-0.0416</td>  <td>0.0032</td>  <td>-12.9414</td> <td>0.0000</td> <td>-0.0479</td> <td>-0.0353</td>\n",
              "</tr>\n",
              "</table><br/>\n"
            ],
            "text/latex": [
              "\\begin{table}\n",
              "\\caption{Results: Logit}\n",
              "\\label{}\n",
              "\\begin{center}\n",
              "\\begin{tabular}{llll}\n",
              "\\hline\n",
              "Model:              & Logit            & Method:           & MLE         \\\\\n",
              "Dependent Variable: & Churn\\_num       & Pseudo R-squared: & 0.047       \\\\\n",
              "Date:               & 2023-10-18 17:13 & AIC:              & 3742.0456   \\\\\n",
              "No. Observations:   & 3000             & BIC:              & 3754.0583   \\\\\n",
              "Df Model:           & 1                & Log-Likelihood:   & -1869.0     \\\\\n",
              "Df Residuals:       & 2998             & LL-Null:          & -1960.3     \\\\\n",
              "Converged:          & 1.0000           & LLR p-value:      & 1.4046e-41  \\\\\n",
              "No. Iterations:     & 5.0000           & Scale:            & 1.0000      \\\\\n",
              "\\hline\n",
              "\\end{tabular}\n",
              "\\end{center}\n",
              "\n",
              "\\begin{center}\n",
              "\\begin{tabular}{lrrrrrr}\n",
              "\\hline\n",
              "           &   Coef. & Std.Err. &        z & P$> |$z$|$ &  [0.025 &  0.975]  \\\\\n",
              "\\hline\n",
              "Intercept  &  1.8106 &   0.1859 &   9.7388 &      0.0000 &  1.4462 &  2.1749  \\\\\n",
              "Antiguedad & -0.0416 &   0.0032 & -12.9414 &      0.0000 & -0.0479 & -0.0353  \\\\\n",
              "\\hline\n",
              "\\end{tabular}\n",
              "\\end{center}\n",
              "\\end{table}\n",
              "\\bigskip\n"
            ],
            "text/plain": [
              "<class 'statsmodels.iolib.summary2.Summary'>\n",
              "\"\"\"\n",
              "                         Results: Logit\n",
              "=================================================================\n",
              "Model:              Logit            Method:           MLE       \n",
              "Dependent Variable: Churn_num        Pseudo R-squared: 0.047     \n",
              "Date:               2023-10-18 17:13 AIC:              3742.0456 \n",
              "No. Observations:   3000             BIC:              3754.0583 \n",
              "Df Model:           1                Log-Likelihood:   -1869.0   \n",
              "Df Residuals:       2998             LL-Null:          -1960.3   \n",
              "Converged:          1.0000           LLR p-value:      1.4046e-41\n",
              "No. Iterations:     5.0000           Scale:            1.0000    \n",
              "------------------------------------------------------------------\n",
              "              Coef.   Std.Err.     z      P>|z|    [0.025   0.975]\n",
              "------------------------------------------------------------------\n",
              "Intercept     1.8106    0.1859    9.7388  0.0000   1.4462   2.1749\n",
              "Antiguedad   -0.0416    0.0032  -12.9414  0.0000  -0.0479  -0.0353\n",
              "=================================================================\n",
              "\n",
              "\"\"\""
            ]
          },
          "execution_count": 16,
          "metadata": {},
          "output_type": "execute_result"
        }
      ],
      "source": [
        "modelo_antig = sm.Logit.from_formula(\n",
        "    formula = \"Churn_num ~ Antiguedad\",\n",
        "    data    = data\n",
        ").fit()\n",
        "modelo_antig.summary2()"
      ]
    },
    {
      "cell_type": "markdown",
      "metadata": {
        "id": "D4HI1QOjBl7a"
      },
      "source": [
        "Viendo los coeficientes de la parte inferior de la tabla, como resultado obtenemos que $\\hat\\beta_0=1.8106$ (`Intercept`) y $\\hat\\beta_1=-0.0416$ (`Antiguedad`). Reemplazando en la fórmula del modelo de regresión logística obtenemos:\n",
        "\n",
        "$$\n",
        "\\mathbf\\log{\\left(\\hat\\pi_i \\over 1 - \\hat\\pi_i\\right)} = \\hat\\beta_0 + \\hat\\beta_1 \\cdot \\text{Antigüedad}_i = 1.8106 - 0.0416 \\cdot \\text{Antigüedad}_i\n",
        "$$"
      ]
    },
    {
      "cell_type": "markdown",
      "metadata": {
        "id": "RM4pOcodBl7a"
      },
      "source": [
        "Y finalmente, la probabilidad estimada $\\pi_i$ estará dada por:"
      ]
    },
    {
      "cell_type": "markdown",
      "metadata": {
        "id": "OKomHqqhBl7a"
      },
      "source": [
        "$$\n",
        "\\hat\\pi_i = {\\exp{(\\hat\\beta_0 + \\hat\\beta_1 \\cdot \\text{Antigüedad}_i)} \\over 1 + \\exp{(\\hat\\beta_0 + \\hat\\beta_1 \\cdot \\text{Antigüedad}_i)}}= {\\exp{(1.8106 - 0.0416 \\cdot \\text{Antigüedad}_i)} \\over 1 + \\exp{(1.8106 - 0.0416 \\cdot \\text{Antigüedad}_i)}}\n",
        "$$"
      ]
    },
    {
      "cell_type": "markdown",
      "metadata": {
        "id": "6M0YcCpQBl7a"
      },
      "source": [
        "Veamos el gráfico que resulta de obtener las probabilidades estimadas para distintos valores de la antigüedad de los clientes."
      ]
    },
    {
      "cell_type": "code",
      "execution_count": null,
      "metadata": {
        "id": "9i7r8X6CBl7a",
        "outputId": "f1769cd0-156a-4d9f-c70d-2383b209375a"
      },
      "outputs": [
        {
          "data": {
            "image/png": "[encoded data removed]",
            "text/plain": [
              "<Figure size 640x480 with 1 Axes>"
            ]
          },
          "metadata": {
            "image/png": {
              "height": 462,
              "width": 570
            }
          },
          "output_type": "display_data"
        }
      ],
      "source": [
        "def pi(antiguedad):\n",
        "    exp = np.exp(1.8106 - 0.0416 * antiguedad)\n",
        "    return exp / (1 + exp)\n",
        "\n",
        "antiguedades = np.arange(0, 100)\n",
        "probs_churn  = pi(antiguedades)\n",
        "\n",
        "sns.lineplot(x=antiguedades, y=probs_churn, ax=ax)\n",
        "plt.title(r\"$\\hat\\pi$ según antigüedad del cliente\")\n",
        "plt.xlabel(\"Antigüedad del cliente (meses)\")\n",
        "plt.ylabel(r\"$\\hat\\pi$\")\n",
        "plt.ylim(0, 1);"
      ]
    },
    {
      "cell_type": "markdown",
      "metadata": {
        "id": "ULg3khcRBl7a"
      },
      "source": [
        "El cálculo de que el cliente se fugue, dado que lleva dos meses en la empresa está dado por:"
      ]
    },
    {
      "cell_type": "code",
      "execution_count": null,
      "metadata": {
        "id": "Sjsidf_GBl7a",
        "outputId": "14a40692-193f-4917-f3b3-e27d34a4b131"
      },
      "outputs": [
        {
          "name": "stdout",
          "output_type": "stream",
          "text": [
            "Probabilidad de fuga: 0.849\n"
          ]
        }
      ],
      "source": [
        "prob_fuga = pi(2)\n",
        "print(f\"Probabilidad de fuga: {prob_fuga:0.3f}\")"
      ]
    },
    {
      "cell_type": "markdown",
      "metadata": {
        "id": "0mFyAjcCBl7a"
      },
      "source": [
        "Es decir, $\\mathbb{P}(\\text{FinalizaContrato}_5=1\\mid\\text{Antigüedad}=2)=0.849$"
      ]
    },
    {
      "cell_type": "markdown",
      "metadata": {
        "id": "-tSEKw8pBl7a"
      },
      "source": [
        "Ahora, supongamos que es de interés crear una regla de decisión para decidir cuando el cliente se fugará. En este contexto, usted decide que cuando la probabilidad de fuga exceda 0.5, el cliente potencialmente se fugará. Necesitaremos saber que valores de antigüedad satisfacen la siguiente inecuación:\n"
      ]
    },
    {
      "cell_type": "markdown",
      "metadata": {
        "id": "Y0DX6xvYBl7a"
      },
      "source": [
        "$$\n",
        "\\hat\\pi_i = {\\exp{(1.8106 - 0.0416 \\cdot \\text{Antigüedad}_i)} \\over 1 + \\exp{(1.8106 - 0.0416 \\cdot \\text{Antigüedad}_i)}} > 0.5 \\\\\n",
        " \\longleftrightarrow \\text{Antigüedad}_i < 43.524\n",
        "$$"
      ]
    },
    {
      "cell_type": "markdown",
      "metadata": {
        "id": "9TXyaRheBl7a"
      },
      "source": [
        "Despejando la variable $\\text{Antigüedad}_i$ con álgebra, resulta que cuando la antigüedad de un cliente es menor a 43.524 ([fuente](https://www.wolframalpha.com/input?i=exp%281.8106+-+0.0416+*+x%29+%2F+%281+%2B+exp%281.8106+-+0.0416+*+x%29%29+%3E+0.5+solve+for+x&lang=es)), la probabilidad de fuga según el modelo estimado es mayor a 0.5."
      ]
    },
    {
      "cell_type": "markdown",
      "metadata": {
        "id": "VLqig1NWBl7b"
      },
      "source": [
        "**Variables Indicadoras o Dummies**"
      ]
    },
    {
      "cell_type": "markdown",
      "metadata": {
        "id": "z0W9U2FMBl7b"
      },
      "source": [
        "A continuación, realicemos un modelo de regresión logística con una mayor cantidad de predictores:\n",
        "\n",
        "$$\n",
        "\\log{\\left(\\pi_i \\over 1 - \\pi_i\\right)} = \\beta_0 + \\beta_1 \\cdot \\mathbb{I}_{\\{\\text{DeudaMembresia}_i=\\text{Deudor}\\}} + \\beta_2 \\cdot \\mathbb{I}_{\\{\\text{MasUnPlan}_i=\\text{Si}\\}} + \\beta_3 \\cdot \\text{Antigüedad}_i\n",
        "$$"
      ]
    },
    {
      "cell_type": "markdown",
      "metadata": {
        "id": "4Wz38JtXBl7b"
      },
      "source": [
        "Para implementar este modelo, en la formula debemos fijar una categoría como referencia en las variables cualitativas con la sintaxis <br> `\"C(variable, Treatment('categoria de referencia'))\"`:"
      ]
    },
    {
      "cell_type": "code",
      "execution_count": null,
      "metadata": {
        "id": "9sck7dZTBl7b",
        "outputId": "515a2359-432c-44da-c61b-a20dfc503746"
      },
      "outputs": [
        {
          "name": "stdout",
          "output_type": "stream",
          "text": [
            "Optimization terminated successfully.\n",
            "         Current function value: 0.607783\n",
            "         Iterations 5\n"
          ]
        },
        {
          "data": {
            "text/html": [
              "<table class=\"simpletable\">\n",
              "<tr>\n",
              "        <td>Model:</td>              <td>Logit</td>           <td>Method:</td>          <td>MLE</td>   \n",
              "</tr>\n",
              "<tr>\n",
              "  <td>Dependent Variable:</td>     <td>Churn_num</td>    <td>Pseudo R-squared:</td>    <td>0.070</td>  \n",
              "</tr>\n",
              "<tr>\n",
              "         <td>Date:</td>        <td>2023-10-18 17:15</td>       <td>AIC:</td>         <td>3654.7002</td>\n",
              "</tr>\n",
              "<tr>\n",
              "   <td>No. Observations:</td>        <td>3000</td>             <td>BIC:</td>         <td>3678.7257</td>\n",
              "</tr>\n",
              "<tr>\n",
              "       <td>Df Model:</td>              <td>3</td>         <td>Log-Likelihood:</td>    <td>-1823.4</td> \n",
              "</tr>\n",
              "<tr>\n",
              "     <td>Df Residuals:</td>          <td>2996</td>           <td>LL-Null:</td>        <td>-1960.3</td> \n",
              "</tr>\n",
              "<tr>\n",
              "      <td>Converged:</td>           <td>1.0000</td>        <td>LLR p-value:</td>    <td>4.6279e-59</td>\n",
              "</tr>\n",
              "<tr>\n",
              "    <td>No. Iterations:</td>        <td>5.0000</td>           <td>Scale:</td>         <td>1.0000</td>  \n",
              "</tr>\n",
              "</table>\n",
              "<table class=\"simpletable\">\n",
              "<tr>\n",
              "                           <td></td>                            <th>Coef.</th>  <th>Std.Err.</th>     <th>z</th>     <th>P>|z|</th> <th>[0.025</th>  <th>0.975]</th> \n",
              "</tr>\n",
              "<tr>\n",
              "  <th>Intercept</th>                                           <td>2.0005</td>   <td>0.1912</td>   <td>10.4608</td> <td>0.0000</td> <td>1.6256</td>  <td>2.3753</td> \n",
              "</tr>\n",
              "<tr>\n",
              "  <th>C(DeudaMembresia, Treatment('No Deudor'))[T.Deudor]</th> <td>0.5682</td>   <td>0.1676</td>   <td>3.3904</td>  <td>0.0007</td> <td>0.2397</td>  <td>0.8966</td> \n",
              "</tr>\n",
              "<tr>\n",
              "  <th>C(MasUnPlan, Treatment('No'))[T.Si]</th>                 <td>-1.0341</td>  <td>0.1237</td>   <td>-8.3620</td> <td>0.0000</td> <td>-1.2765</td> <td>-0.7917</td>\n",
              "</tr>\n",
              "<tr>\n",
              "  <th>Antiguedad</th>                                          <td>-0.0429</td>  <td>0.0033</td>  <td>-13.1024</td> <td>0.0000</td> <td>-0.0494</td> <td>-0.0365</td>\n",
              "</tr>\n",
              "</table><br/>\n"
            ],
            "text/latex": [
              "\\begin{table}\n",
              "\\caption{Results: Logit}\n",
              "\\label{}\n",
              "\\begin{center}\n",
              "\\begin{tabular}{llll}\n",
              "\\hline\n",
              "Model:              & Logit            & Method:           & MLE         \\\\\n",
              "Dependent Variable: & Churn\\_num       & Pseudo R-squared: & 0.070       \\\\\n",
              "Date:               & 2023-10-18 17:15 & AIC:              & 3654.7002   \\\\\n",
              "No. Observations:   & 3000             & BIC:              & 3678.7257   \\\\\n",
              "Df Model:           & 3                & Log-Likelihood:   & -1823.4     \\\\\n",
              "Df Residuals:       & 2996             & LL-Null:          & -1960.3     \\\\\n",
              "Converged:          & 1.0000           & LLR p-value:      & 4.6279e-59  \\\\\n",
              "No. Iterations:     & 5.0000           & Scale:            & 1.0000      \\\\\n",
              "\\hline\n",
              "\\end{tabular}\n",
              "\\end{center}\n",
              "\n",
              "\\begin{center}\n",
              "\\begin{tabular}{lrrrrrr}\n",
              "\\hline\n",
              "                                                    &   Coef. & Std.Err. &        z & P$> |$z$|$ &  [0.025 &  0.975]  \\\\\n",
              "\\hline\n",
              "Intercept                                           &  2.0005 &   0.1912 &  10.4608 &      0.0000 &  1.6256 &  2.3753  \\\\\n",
              "C(DeudaMembresia, Treatment('No Deudor'))[T.Deudor] &  0.5682 &   0.1676 &   3.3904 &      0.0007 &  0.2397 &  0.8966  \\\\\n",
              "C(MasUnPlan, Treatment('No'))[T.Si]                 & -1.0341 &   0.1237 &  -8.3620 &      0.0000 & -1.2765 & -0.7917  \\\\\n",
              "Antiguedad                                          & -0.0429 &   0.0033 & -13.1024 &      0.0000 & -0.0494 & -0.0365  \\\\\n",
              "\\hline\n",
              "\\end{tabular}\n",
              "\\end{center}\n",
              "\\end{table}\n",
              "\\bigskip\n"
            ],
            "text/plain": [
              "<class 'statsmodels.iolib.summary2.Summary'>\n",
              "\"\"\"\n",
              "                                           Results: Logit\n",
              "====================================================================================================\n",
              "Model:                           Logit                       Method:                      MLE       \n",
              "Dependent Variable:              Churn_num                   Pseudo R-squared:            0.070     \n",
              "Date:                            2023-10-18 17:15            AIC:                         3654.7002 \n",
              "No. Observations:                3000                        BIC:                         3678.7257 \n",
              "Df Model:                        3                           Log-Likelihood:              -1823.4   \n",
              "Df Residuals:                    2996                        LL-Null:                     -1960.3   \n",
              "Converged:                       1.0000                      LLR p-value:                 4.6279e-59\n",
              "No. Iterations:                  5.0000                      Scale:                       1.0000    \n",
              "----------------------------------------------------------------------------------------------------\n",
              "                                                     Coef.  Std.Err.    z     P>|z|   [0.025  0.975]\n",
              "----------------------------------------------------------------------------------------------------\n",
              "Intercept                                            2.0005   0.1912  10.4608 0.0000  1.6256  2.3753\n",
              "C(DeudaMembresia, Treatment('No Deudor'))[T.Deudor]  0.5682   0.1676   3.3904 0.0007  0.2397  0.8966\n",
              "C(MasUnPlan, Treatment('No'))[T.Si]                 -1.0341   0.1237  -8.3620 0.0000 -1.2765 -0.7917\n",
              "Antiguedad                                          -0.0429   0.0033 -13.1024 0.0000 -0.0494 -0.0365\n",
              "====================================================================================================\n",
              "\n",
              "\"\"\""
            ]
          },
          "execution_count": 20,
          "metadata": {},
          "output_type": "execute_result"
        }
      ],
      "source": [
        "modelo = sm.Logit.from_formula(\n",
        "    formula = \"\"\"\n",
        "        Churn_num ~\n",
        "            C(DeudaMembresia, Treatment('No Deudor')) +\n",
        "            C(MasUnPlan, Treatment('No')) +\n",
        "            Antiguedad\n",
        "    \"\"\",\n",
        "    data = data\n",
        ").fit()\n",
        "modelo.summary2()"
      ]
    },
    {
      "cell_type": "markdown",
      "metadata": {
        "id": "n7u9Y4DdBl7b"
      },
      "source": [
        "El modelo estimado es el siguiente:"
      ]
    },
    {
      "cell_type": "markdown",
      "metadata": {
        "id": "LGijtk9sBl7b"
      },
      "source": [
        "$$\n",
        "\\begin{align*}\n",
        "\\log{\\left(\\hat\\pi_i \\over 1 - \\hat\\pi_i\\right)} &= 2 + 0.567 \\cdot \\mathbb{I}_{\\{\\text{DeudaMembresia}_i=\\text{Deudor}\\}} -1.034 \\cdot \\mathbb{I}_{\\{\\text{MasUnPlan}_i=\\text{Si}\\}} -0.043 \\cdot \\text{Antigüedad}_i\n",
        "\\end{align*}\n",
        "$$"
      ]
    },
    {
      "cell_type": "markdown",
      "metadata": {
        "id": "pVjvtbtyBl7e"
      },
      "source": [
        "Supongamos que necesitamos obtener la probabilidad de fuga del siguiente cliente:\n",
        "\n",
        "* `DeudaMembresia`: $\\color{violet}{\\text{Deudor}}$.\n",
        "* `MasUnPlan`: $\\color{red}{\\text{No}}$\n",
        "* `Antiguedad`: $\\color{orange}{\\text{5 meses}}$\n",
        "\n",
        "$$\n",
        "\\hat\\pi_i =\n",
        "{\n",
        "    \\exp{(2 + 0.567 \\cdot \\color{violet}{1} -1.034 \\cdot \\color{red}{0} -0.043 \\cdot \\color{orange}{5})}\n",
        "    \\over\n",
        "    1 + \\exp{(2 + 0.567 \\cdot \\color{violet}{1} -1.034 \\cdot \\color{red}{0} -0.043 \\cdot \\color{orange}{5})}\n",
        "} = 0.9132\n",
        "$$"
      ]
    },
    {
      "cell_type": "markdown",
      "metadata": {
        "id": "pWPHkG9WBl7f"
      },
      "source": [
        "**Razón de Chances** (***Odds Ratio***)"
      ]
    },
    {
      "cell_type": "markdown",
      "metadata": {
        "id": "pt-tXQj1Bl7f"
      },
      "source": [
        "Retomando el ejemplo de que un caballo \"A\" gane la carrera es 3 a 1, también suponga que hay otros caballos:\n",
        "* Caballo A (el que vimos anteriormente): tienen chances de ganar la carrera de 3 a 1.\n",
        "* Caballo B: tienen chances de ganar la carrera de 2 a 1.\n",
        "* Caballo C: tienen chances de ganar la carrera de 4 a 1.\n",
        "\n",
        "Interesa saber cuántas chanches más tienen de ganar el caballo A, respecto a los otros caballos.\n",
        "\n",
        "Para responder a esta necesidad, se utilizan las razones de chances, que están dadas por la siguiente fórmula:\n",
        "\n",
        "$$\n",
        "\\text{Odds Ratio} = {\\text{Chances del Evento 1} \\over \\text{Chances del Evento 2}}\n",
        "$$\n",
        "\n",
        "* Entonces, el Odds Ratio entre el caballo A y el B es de $3/2=1.5$, o sea, el caballo A tiene 50% más de chances de ganar la carrera que el caballo B.  \n",
        "* Por otro lado, el Odds Ratio entre el caballo A y el C es de $3/ 4=0.75$, o sea, el caballo A tiene un 25% menos de chances de ganar la carrera que el caballo C."
      ]
    },
    {
      "cell_type": "markdown",
      "metadata": {
        "id": "ZvjwXOx6Bl7f"
      },
      "source": [
        "En el caso de la fuga de los clientes, supongamos que nos interesa calcular cuantas chances hay de que un cliente se fuge cuando es un mes más antiguo. Definamos a este cliente en ambos meses:\n",
        "* Cliente~1~: Es el cliente con una antigüedad de $x$ meses.\n",
        "* Cliente~2~: Es el mismo cliente pero tiene una antigüedad de $x+1$ meses.\n",
        "\n",
        "Calculemos las chances considerando que el modelo entrega las **log-chances** de que el cliente se fugue.\n",
        "\n",
        "$$\n",
        "{\\color{green}{\\text{Chances del Cliente}_1} \\over \\color{blue}{\\text{Chances del Cliente}_2}} =  {\\color{green}{\\exp\\left\\{\\beta_0 + \\beta_1 \\cdot \\mathbb{I}_{\\{\\text{DeudaMembresia}_i=\\text{Deudor}\\}} + \\beta_2 \\cdot \\mathbb{I}_{\\{\\text{MasUnPlan}_i=\\text{Si}\\}} + \\beta_3 \\cdot (x+1) \\right\\}} \\over \\color{blue}{\\exp\\left\\{\\beta_0 + \\beta_1 \\cdot \\mathbb{I}_{\\{\\text{DeudaMembresia}_i=\\text{Deudor}\\}} + \\beta_2 \\cdot \\mathbb{I}_{\\{\\text{MasUnPlan}_i=\\text{Si}\\}} + \\beta_3 \\cdot x \\right\\}} }\n",
        "$$\n",
        "\n",
        "Utilizando propiedades de las potencias, obtenemos el siguiente resultado:\n",
        "\n",
        "$$\n",
        "\\text{Odds Ratio} = {\\text{Chances del Cliente}_1 \\over \\text{Chances del Cliente}_2} = \\exp\\{\\beta_3\\}\n",
        "$$\n",
        "\n",
        "O sea, independiente de la cantidad de meses de antigüedad, el Odds Ratio cuando el cliente es un mes más antiguo es $\\exp\\{\\beta_3\\}$. Este resultado también aplica para el resto de los predictores, cuando se desea calcular el Odds Ratio para evaluar el cambio en una unidad. O sea también se cumple que:\n",
        "\n",
        "* Odds ratio de \"Cliente Deudor\" respecto a \"Ciente No Deudor\" es igual a $\\exp\\{\\beta_1\\}$.\n",
        "* Odds ratio de \"Cliente con más de un plan\" respecto a \"Ciente con un Plan\" es igual a $\\exp\\{\\beta_2\\}$."
      ]
    },
    {
      "cell_type": "markdown",
      "metadata": {
        "id": "x6gt_h90Bl7f"
      },
      "source": [
        "Obtengamos estimaciones de los Odds Ratios mediante el modelo estimado:"
      ]
    },
    {
      "cell_type": "code",
      "execution_count": null,
      "metadata": {
        "id": "m9YGHwepBl7f",
        "outputId": "ce9bf1e3-be72-400c-cf11-e01d929abbb9"
      },
      "outputs": [
        {
          "name": "stdout",
          "output_type": "stream",
          "text": [
            "Razones de chances:\n",
            "C(DeudaMembresia, Treatment('No Deudor'))[T.Deudor]   1.76502\n",
            "C(MasUnPlan, Treatment('No'))[T.Si]                   0.35554\n",
            "Antiguedad                                            0.95796\n",
            "dtype: float64\n"
          ]
        }
      ],
      "source": [
        "odds_ratio = np.exp(modelo.params[1:]) # Se utiliza [1:] para excluir intercepto\n",
        "print(\"Razones de chances:\")\n",
        "print(odds_ratio)"
      ]
    },
    {
      "cell_type": "markdown",
      "metadata": {
        "id": "YXciB2jtBl7f"
      },
      "source": [
        "Esto quiere decir que:\n",
        "\n",
        "* Un \"Cliente Deudor\" tiene un 76.5% (1.76502-1) más de chances de fugarse que un \"Cliente No Deudor\".\n",
        "* Un cliente con \"Más de un plan\" tiene un 64.4% (1 - 0.35554) menos de chances de fugarse que un cliente con \"Un Plan\".\n",
        "* Un cliente tiene 4.2% (1 - 0.95796) menos de chances de fugarse, por cada mes de antigüedad que lleva en la empresa."
      ]
    },
    {
      "cell_type": "markdown",
      "metadata": {
        "id": "jog4D8hFBl7f"
      },
      "source": [
        "Además, se pueden clasificar los Odds Ratio de la siguiente forma:\n",
        "* $\\text{Odds Ratio}>1$: El predictor es un **Factor de Riesgo**.\n",
        "* $\\text{Odds Ratio}<1$: El predictor es un **Factor Protector**.\n",
        "* $\\text{Odds Ratio}=1$: **No hay efecto** por parte del predictor.\n"
      ]
    },
    {
      "cell_type": "markdown",
      "metadata": {
        "id": "YBelZC73Bl7f"
      },
      "source": [
        "Se pueden obtener intervalos de confianza al 95% para los Odds Ratio mediante el método `conf_int()` del modelo ajustado."
      ]
    },
    {
      "cell_type": "code",
      "execution_count": null,
      "metadata": {
        "id": "PiT8GkQOBl7f",
        "outputId": "f3a22d47-413b-4b72-d0e7-d37dbe8d5497"
      },
      "outputs": [
        {
          "name": "stdout",
          "output_type": "stream",
          "text": [
            "- Intervalo de confianza al 95% para los Odds Ratio:\n"
          ]
        },
        {
          "data": {
            "text/html": [
              "<div>\n",
              "<style scoped>\n",
              "    .dataframe tbody tr th:only-of-type {\n",
              "        vertical-align: middle;\n",
              "    }\n",
              "\n",
              "    .dataframe tbody tr th {\n",
              "        vertical-align: top;\n",
              "    }\n",
              "\n",
              "    .dataframe thead th {\n",
              "        text-align: right;\n",
              "    }\n",
              "</style>\n",
              "<table border=\"1\" class=\"dataframe\">\n",
              "  <thead>\n",
              "    <tr style=\"text-align: right;\">\n",
              "      <th></th>\n",
              "      <th>[2.5%</th>\n",
              "      <th>97.5%]</th>\n",
              "    </tr>\n",
              "  </thead>\n",
              "  <tbody>\n",
              "    <tr>\n",
              "      <th>C(DeudaMembresia, Treatment('No Deudor'))[T.Deudor]</th>\n",
              "      <td>1.27088</td>\n",
              "      <td>2.45128</td>\n",
              "    </tr>\n",
              "    <tr>\n",
              "      <th>C(MasUnPlan, Treatment('No'))[T.Si]</th>\n",
              "      <td>0.27901</td>\n",
              "      <td>0.45306</td>\n",
              "    </tr>\n",
              "    <tr>\n",
              "      <th>Antiguedad</th>\n",
              "      <td>0.95182</td>\n",
              "      <td>0.96413</td>\n",
              "    </tr>\n",
              "  </tbody>\n",
              "</table>\n",
              "</div>"
            ],
            "text/plain": [
              "                                                     [2.5%  97.5%]\n",
              "C(DeudaMembresia, Treatment('No Deudor'))[T.Deu... 1.27088 2.45128\n",
              "C(MasUnPlan, Treatment('No'))[T.Si]                0.27901 0.45306\n",
              "Antiguedad                                         0.95182 0.96413"
            ]
          },
          "metadata": {},
          "output_type": "display_data"
        }
      ],
      "source": [
        "ic95_odds_ratio = np.exp(modelo.conf_int().iloc[1:, :])\n",
        "ic95_odds_ratio.columns = [\"[2.5%\", \"97.5%]\"]\n",
        "\n",
        "print(\"- Intervalo de confianza al 95% para los Odds Ratio:\")\n",
        "display(ic95_odds_ratio)"
      ]
    },
    {
      "cell_type": "markdown",
      "metadata": {
        "id": "nq6zDofdBl7g"
      },
      "source": [
        "Como ninguno de los intervalos de confianza al 95% contiene al valor 1, hay evidencia estadística respecto a que todos los predictores son Factores de Riesgo o Factores Protectores:\n",
        "\n",
        "* `DeudaMembresia=\"Deudor\"`: Factor de Riesgo.\n",
        "* `MasUnPlan=\"Si\"`: Factor Protector.\n",
        "* `Antiguedad`: Factor Protector."
      ]
    },
    {
      "cell_type": "markdown",
      "metadata": {
        "id": "zXMX_PvOBl7g"
      },
      "source": [
        "**Inferencia sobre los parámetros**"
      ]
    },
    {
      "cell_type": "markdown",
      "metadata": {
        "id": "AoDtS-NLBl7g"
      },
      "source": [
        "La tabla que se obtiene con el método `summary2()` entrega los valores-p asociados a la siguiente familia de hipótesis.\n",
        "\n",
        "$$\n",
        "H_0:\\beta_i = 0 \\\\\n",
        "H_1:\\beta_i \\not= 0\n",
        "$$\n",
        "\n",
        "Para todos los coeficientes $\\beta_i$ del modelo. Se rechaza $H_0$ si el valor-p es menor a un nivel de significancia $\\alpha$ (usualmente 0.05).\n",
        "\n",
        "Trabajemos con $\\alpha=0.05$ ¿Qué hacemos cuando tenemos muchos parámetros con un valor-p asociado mayor a 0.05?\n",
        "\n",
        "Realicemos un modelo con aún más predictores:\n",
        "\n",
        "\n"
      ]
    },
    {
      "cell_type": "code",
      "execution_count": null,
      "metadata": {
        "id": "G89vD1lIBl7g",
        "outputId": "aa90c348-2e06-4e23-96b5-f96a2e1d67de"
      },
      "outputs": [
        {
          "name": "stdout",
          "output_type": "stream",
          "text": [
            "Optimization terminated successfully.\n",
            "         Current function value: 0.597177\n",
            "         Iterations 6\n"
          ]
        },
        {
          "data": {
            "text/html": [
              "<table class=\"simpletable\">\n",
              "<tr>\n",
              "        <td>Model:</td>              <td>Logit</td>           <td>Method:</td>          <td>MLE</td>   \n",
              "</tr>\n",
              "<tr>\n",
              "  <td>Dependent Variable:</td>     <td>Churn_num</td>    <td>Pseudo R-squared:</td>    <td>0.086</td>  \n",
              "</tr>\n",
              "<tr>\n",
              "         <td>Date:</td>        <td>2023-10-18 17:15</td>       <td>AIC:</td>         <td>3599.0619</td>\n",
              "</tr>\n",
              "<tr>\n",
              "   <td>No. Observations:</td>        <td>3000</td>             <td>BIC:</td>         <td>3647.1128</td>\n",
              "</tr>\n",
              "<tr>\n",
              "       <td>Df Model:</td>              <td>7</td>         <td>Log-Likelihood:</td>    <td>-1791.5</td> \n",
              "</tr>\n",
              "<tr>\n",
              "     <td>Df Residuals:</td>          <td>2992</td>           <td>LL-Null:</td>        <td>-1960.3</td> \n",
              "</tr>\n",
              "<tr>\n",
              "      <td>Converged:</td>           <td>1.0000</td>        <td>LLR p-value:</td>    <td>5.9849e-69</td>\n",
              "</tr>\n",
              "<tr>\n",
              "    <td>No. Iterations:</td>        <td>6.0000</td>           <td>Scale:</td>         <td>1.0000</td>  \n",
              "</tr>\n",
              "</table>\n",
              "<table class=\"simpletable\">\n",
              "<tr>\n",
              "                           <td></td>                            <th>Coef.</th>  <th>Std.Err.</th>     <th>z</th>     <th>P>|z|</th> <th>[0.025</th>  <th>0.975]</th> \n",
              "</tr>\n",
              "<tr>\n",
              "  <th>Intercept</th>                                           <td>2.4434</td>   <td>0.3568</td>   <td>6.8486</td>  <td>0.0000</td> <td>1.7441</td>  <td>3.1426</td> \n",
              "</tr>\n",
              "<tr>\n",
              "  <th>C(DeudaMembresia, Treatment('No Deudor'))[T.Deudor]</th> <td>0.5879</td>   <td>0.1697</td>   <td>3.4637</td>  <td>0.0005</td> <td>0.2552</td>  <td>0.9206</td> \n",
              "</tr>\n",
              "<tr>\n",
              "  <th>C(TipoCliente, Treatment('Regular'))[T.Premium]</th>     <td>-1.0836</td>  <td>0.1495</td>   <td>-7.2486</td> <td>0.0000</td> <td>-1.3766</td> <td>-0.7906</td>\n",
              "</tr>\n",
              "<tr>\n",
              "  <th>C(MasUnPlan, Treatment('No'))[T.Si]</th>                 <td>-1.0562</td>  <td>0.1248</td>   <td>-8.4626</td> <td>0.0000</td> <td>-1.3009</td> <td>-0.8116</td>\n",
              "</tr>\n",
              "<tr>\n",
              "  <th>C(Sexo, Treatment('Hombre'))[T.Mujer]</th>               <td>0.0994</td>   <td>0.0812</td>   <td>1.2230</td>  <td>0.2213</td> <td>-0.0599</td> <td>0.2586</td> \n",
              "</tr>\n",
              "<tr>\n",
              "  <th>Edad</th>                                                <td>-0.0069</td>  <td>0.0065</td>   <td>-1.0567</td> <td>0.2906</td> <td>-0.0198</td> <td>0.0059</td> \n",
              "</tr>\n",
              "<tr>\n",
              "  <th>PagaporServicio</th>                                     <td>-0.0004</td>  <td>0.0017</td>   <td>-0.2106</td> <td>0.8332</td> <td>-0.0036</td> <td>0.0029</td> \n",
              "</tr>\n",
              "<tr>\n",
              "  <th>Antiguedad</th>                                          <td>-0.0443</td>  <td>0.0033</td>  <td>-13.2994</td> <td>0.0000</td> <td>-0.0508</td> <td>-0.0377</td>\n",
              "</tr>\n",
              "</table><br/>\n"
            ],
            "text/latex": [
              "\\begin{table}\n",
              "\\caption{Results: Logit}\n",
              "\\label{}\n",
              "\\begin{center}\n",
              "\\begin{tabular}{llll}\n",
              "\\hline\n",
              "Model:              & Logit            & Method:           & MLE         \\\\\n",
              "Dependent Variable: & Churn\\_num       & Pseudo R-squared: & 0.086       \\\\\n",
              "Date:               & 2023-10-18 17:15 & AIC:              & 3599.0619   \\\\\n",
              "No. Observations:   & 3000             & BIC:              & 3647.1128   \\\\\n",
              "Df Model:           & 7                & Log-Likelihood:   & -1791.5     \\\\\n",
              "Df Residuals:       & 2992             & LL-Null:          & -1960.3     \\\\\n",
              "Converged:          & 1.0000           & LLR p-value:      & 5.9849e-69  \\\\\n",
              "No. Iterations:     & 6.0000           & Scale:            & 1.0000      \\\\\n",
              "\\hline\n",
              "\\end{tabular}\n",
              "\\end{center}\n",
              "\n",
              "\\begin{center}\n",
              "\\begin{tabular}{lrrrrrr}\n",
              "\\hline\n",
              "                                                    &   Coef. & Std.Err. &        z & P$> |$z$|$ &  [0.025 &  0.975]  \\\\\n",
              "\\hline\n",
              "Intercept                                           &  2.4434 &   0.3568 &   6.8486 &      0.0000 &  1.7441 &  3.1426  \\\\\n",
              "C(DeudaMembresia, Treatment('No Deudor'))[T.Deudor] &  0.5879 &   0.1697 &   3.4637 &      0.0005 &  0.2552 &  0.9206  \\\\\n",
              "C(TipoCliente, Treatment('Regular'))[T.Premium]     & -1.0836 &   0.1495 &  -7.2486 &      0.0000 & -1.3766 & -0.7906  \\\\\n",
              "C(MasUnPlan, Treatment('No'))[T.Si]                 & -1.0562 &   0.1248 &  -8.4626 &      0.0000 & -1.3009 & -0.8116  \\\\\n",
              "C(Sexo, Treatment('Hombre'))[T.Mujer]               &  0.0994 &   0.0812 &   1.2230 &      0.2213 & -0.0599 &  0.2586  \\\\\n",
              "Edad                                                & -0.0069 &   0.0065 &  -1.0567 &      0.2906 & -0.0198 &  0.0059  \\\\\n",
              "PagaporServicio                                     & -0.0004 &   0.0017 &  -0.2106 &      0.8332 & -0.0036 &  0.0029  \\\\\n",
              "Antiguedad                                          & -0.0443 &   0.0033 & -13.2994 &      0.0000 & -0.0508 & -0.0377  \\\\\n",
              "\\hline\n",
              "\\end{tabular}\n",
              "\\end{center}\n",
              "\\end{table}\n",
              "\\bigskip\n"
            ],
            "text/plain": [
              "<class 'statsmodels.iolib.summary2.Summary'>\n",
              "\"\"\"\n",
              "                                           Results: Logit\n",
              "====================================================================================================\n",
              "Model:                           Logit                       Method:                      MLE       \n",
              "Dependent Variable:              Churn_num                   Pseudo R-squared:            0.086     \n",
              "Date:                            2023-10-18 17:15            AIC:                         3599.0619 \n",
              "No. Observations:                3000                        BIC:                         3647.1128 \n",
              "Df Model:                        7                           Log-Likelihood:              -1791.5   \n",
              "Df Residuals:                    2992                        LL-Null:                     -1960.3   \n",
              "Converged:                       1.0000                      LLR p-value:                 5.9849e-69\n",
              "No. Iterations:                  6.0000                      Scale:                       1.0000    \n",
              "----------------------------------------------------------------------------------------------------\n",
              "                                                     Coef.  Std.Err.    z     P>|z|   [0.025  0.975]\n",
              "----------------------------------------------------------------------------------------------------\n",
              "Intercept                                            2.4434   0.3568   6.8486 0.0000  1.7441  3.1426\n",
              "C(DeudaMembresia, Treatment('No Deudor'))[T.Deudor]  0.5879   0.1697   3.4637 0.0005  0.2552  0.9206\n",
              "C(TipoCliente, Treatment('Regular'))[T.Premium]     -1.0836   0.1495  -7.2486 0.0000 -1.3766 -0.7906\n",
              "C(MasUnPlan, Treatment('No'))[T.Si]                 -1.0562   0.1248  -8.4626 0.0000 -1.3009 -0.8116\n",
              "C(Sexo, Treatment('Hombre'))[T.Mujer]                0.0994   0.0812   1.2230 0.2213 -0.0599  0.2586\n",
              "Edad                                                -0.0069   0.0065  -1.0567 0.2906 -0.0198  0.0059\n",
              "PagaporServicio                                     -0.0004   0.0017  -0.2106 0.8332 -0.0036  0.0029\n",
              "Antiguedad                                          -0.0443   0.0033 -13.2994 0.0000 -0.0508 -0.0377\n",
              "====================================================================================================\n",
              "\n",
              "\"\"\""
            ]
          },
          "execution_count": 21,
          "metadata": {},
          "output_type": "execute_result"
        }
      ],
      "source": [
        "modelo = sm.Logit.from_formula(\n",
        "    formula = \"\"\"\n",
        "        Churn_num ~\n",
        "            C(DeudaMembresia, Treatment('No Deudor')) +\n",
        "            C(TipoCliente, Treatment('Regular')) +\n",
        "            C(MasUnPlan, Treatment('No')) +\n",
        "            C(Sexo, Treatment('Hombre')) +\n",
        "            Edad +\n",
        "            PagaporServicio +\n",
        "            Antiguedad\n",
        "    \"\"\",\n",
        "    data = data\n",
        ").fit()\n",
        "modelo.summary2()"
      ]
    },
    {
      "cell_type": "markdown",
      "metadata": {
        "id": "YnUmMuEHBl7g"
      },
      "source": [
        "En este caso, y al igual que con el modelo de regresión lineal, debemos realizar una eliminación de variables de forma **secuencial**. No hacerlo de esta forma puede llevar a eliminar variables que son significativas sin la presencia de otras variables.\n",
        "\n",
        "Una diferencia, es que no usamos la tabla ANOVA, sino que realizamos el Test F de Modelos Anidados.\n",
        "\n",
        "Utilizamos la misma clase `Stepwise()` del módulo `linear_model` de la librería ESTYP. También contamos con la opción de realizar la selección con los criterios AIC y BIC en caso de que se desee.\n"
      ]
    },
    {
      "cell_type": "code",
      "source": [
        "% pip install estyp"
      ],
      "metadata": {
        "id": "aT5Yuh1QCSsz"
      },
      "execution_count": null,
      "outputs": []
    },
    {
      "cell_type": "code",
      "execution_count": null,
      "metadata": {
        "id": "UFIA5yLoBl7g",
        "outputId": "a818e8c5-d8bf-4a7d-ea1a-6a8f38f60de1"
      },
      "outputs": [
        {
          "name": "stdout",
          "output_type": "stream",
          "text": [
            "- Term dropped: \"PagaporServicio\" | p-value: 0.8474\n",
            "- Term dropped: \"Edad\" | p-value: 0.3369\n",
            "- Term dropped: \"C(Sexo, Treatment('Hombre'))\" | p-value: 0.2711\n",
            "\u001b[92m\u001b[4m\u001b[1mBackward selection completed\u001b[0m\n",
            "- Dropped terms: 3\n",
            "- Obtained formula: \"Churn_num ~ C(DeudaMembresia, Treatment('No Deudor')) + C(TipoCliente, Treatment('Regular')) + C(MasUnPlan, Treatment('No')) + Antiguedad\"\n"
          ]
        }
      ],
      "source": [
        "from estyp.linear_model import Stepwise\n",
        "\n",
        "searcher = Stepwise(\n",
        "    formula = \"\"\"\n",
        "        Churn_num ~\n",
        "            C(DeudaMembresia, Treatment('No Deudor')) +\n",
        "            C(TipoCliente, Treatment('Regular')) +\n",
        "            C(MasUnPlan, Treatment('No')) +\n",
        "            C(Sexo, Treatment('Hombre')) +\n",
        "            Edad +\n",
        "            PagaporServicio +\n",
        "            Antiguedad\n",
        "    \"\"\",\n",
        "    data      = data,\n",
        "    model     = sm.Logit,\n",
        "    direction = \"backward\",\n",
        "    criterion = \"f-test\"\n",
        ")\n",
        "searcher.fit()\n"
      ]
    },
    {
      "cell_type": "code",
      "execution_count": null,
      "metadata": {
        "id": "nZlt3KHWBl7g",
        "outputId": "94a4e720-e694-44c8-ddf6-24ad84219330"
      },
      "outputs": [
        {
          "name": "stdout",
          "output_type": "stream",
          "text": [
            "Optimization terminated successfully.\n",
            "         Current function value: 0.597610\n",
            "         Iterations 6\n"
          ]
        },
        {
          "data": {
            "text/html": [
              "<table class=\"simpletable\">\n",
              "<tr>\n",
              "        <td>Model:</td>              <td>Logit</td>           <td>Method:</td>          <td>MLE</td>   \n",
              "</tr>\n",
              "<tr>\n",
              "  <td>Dependent Variable:</td>     <td>Churn_num</td>    <td>Pseudo R-squared:</td>    <td>0.085</td>  \n",
              "</tr>\n",
              "<tr>\n",
              "         <td>Date:</td>        <td>2023-10-18 17:19</td>       <td>AIC:</td>         <td>3595.6608</td>\n",
              "</tr>\n",
              "<tr>\n",
              "   <td>No. Observations:</td>        <td>3000</td>             <td>BIC:</td>         <td>3625.6927</td>\n",
              "</tr>\n",
              "<tr>\n",
              "       <td>Df Model:</td>              <td>4</td>         <td>Log-Likelihood:</td>    <td>-1792.8</td> \n",
              "</tr>\n",
              "<tr>\n",
              "     <td>Df Residuals:</td>          <td>2995</td>           <td>LL-Null:</td>        <td>-1960.3</td> \n",
              "</tr>\n",
              "<tr>\n",
              "      <td>Converged:</td>           <td>1.0000</td>        <td>LLR p-value:</td>    <td>3.2735e-71</td>\n",
              "</tr>\n",
              "<tr>\n",
              "    <td>No. Iterations:</td>        <td>6.0000</td>           <td>Scale:</td>         <td>1.0000</td>  \n",
              "</tr>\n",
              "</table>\n",
              "<table class=\"simpletable\">\n",
              "<tr>\n",
              "                           <td></td>                            <th>Coef.</th>  <th>Std.Err.</th>     <th>z</th>     <th>P>|z|</th> <th>[0.025</th>  <th>0.975]</th> \n",
              "</tr>\n",
              "<tr>\n",
              "  <th>Intercept</th>                                           <td>2.1775</td>   <td>0.1955</td>   <td>11.1396</td> <td>0.0000</td> <td>1.7944</td>  <td>2.5606</td> \n",
              "</tr>\n",
              "<tr>\n",
              "  <th>C(DeudaMembresia, Treatment('No Deudor'))[T.Deudor]</th> <td>0.5896</td>   <td>0.1695</td>   <td>3.4787</td>  <td>0.0005</td> <td>0.2574</td>  <td>0.9218</td> \n",
              "</tr>\n",
              "<tr>\n",
              "  <th>C(TipoCliente, Treatment('Regular'))[T.Premium]</th>     <td>-1.0836</td>  <td>0.1493</td>   <td>-7.2578</td> <td>0.0000</td> <td>-1.3762</td> <td>-0.7910</td>\n",
              "</tr>\n",
              "<tr>\n",
              "  <th>C(MasUnPlan, Treatment('No'))[T.Si]</th>                 <td>-1.0562</td>  <td>0.1247</td>   <td>-8.4679</td> <td>0.0000</td> <td>-1.3006</td> <td>-0.8117</td>\n",
              "</tr>\n",
              "<tr>\n",
              "  <th>Antiguedad</th>                                          <td>-0.0442</td>  <td>0.0033</td>  <td>-13.2802</td> <td>0.0000</td> <td>-0.0507</td> <td>-0.0377</td>\n",
              "</tr>\n",
              "</table><br/>\n"
            ],
            "text/latex": [
              "\\begin{table}\n",
              "\\caption{Results: Logit}\n",
              "\\label{}\n",
              "\\begin{center}\n",
              "\\begin{tabular}{llll}\n",
              "\\hline\n",
              "Model:              & Logit            & Method:           & MLE         \\\\\n",
              "Dependent Variable: & Churn\\_num       & Pseudo R-squared: & 0.085       \\\\\n",
              "Date:               & 2023-10-18 17:19 & AIC:              & 3595.6608   \\\\\n",
              "No. Observations:   & 3000             & BIC:              & 3625.6927   \\\\\n",
              "Df Model:           & 4                & Log-Likelihood:   & -1792.8     \\\\\n",
              "Df Residuals:       & 2995             & LL-Null:          & -1960.3     \\\\\n",
              "Converged:          & 1.0000           & LLR p-value:      & 3.2735e-71  \\\\\n",
              "No. Iterations:     & 6.0000           & Scale:            & 1.0000      \\\\\n",
              "\\hline\n",
              "\\end{tabular}\n",
              "\\end{center}\n",
              "\n",
              "\\begin{center}\n",
              "\\begin{tabular}{lrrrrrr}\n",
              "\\hline\n",
              "                                                    &   Coef. & Std.Err. &        z & P$> |$z$|$ &  [0.025 &  0.975]  \\\\\n",
              "\\hline\n",
              "Intercept                                           &  2.1775 &   0.1955 &  11.1396 &      0.0000 &  1.7944 &  2.5606  \\\\\n",
              "C(DeudaMembresia, Treatment('No Deudor'))[T.Deudor] &  0.5896 &   0.1695 &   3.4787 &      0.0005 &  0.2574 &  0.9218  \\\\\n",
              "C(TipoCliente, Treatment('Regular'))[T.Premium]     & -1.0836 &   0.1493 &  -7.2578 &      0.0000 & -1.3762 & -0.7910  \\\\\n",
              "C(MasUnPlan, Treatment('No'))[T.Si]                 & -1.0562 &   0.1247 &  -8.4679 &      0.0000 & -1.3006 & -0.8117  \\\\\n",
              "Antiguedad                                          & -0.0442 &   0.0033 & -13.2802 &      0.0000 & -0.0507 & -0.0377  \\\\\n",
              "\\hline\n",
              "\\end{tabular}\n",
              "\\end{center}\n",
              "\\end{table}\n",
              "\\bigskip\n"
            ],
            "text/plain": [
              "<class 'statsmodels.iolib.summary2.Summary'>\n",
              "\"\"\"\n",
              "                                           Results: Logit\n",
              "====================================================================================================\n",
              "Model:                           Logit                       Method:                      MLE       \n",
              "Dependent Variable:              Churn_num                   Pseudo R-squared:            0.085     \n",
              "Date:                            2023-10-18 17:19            AIC:                         3595.6608 \n",
              "No. Observations:                3000                        BIC:                         3625.6927 \n",
              "Df Model:                        4                           Log-Likelihood:              -1792.8   \n",
              "Df Residuals:                    2995                        LL-Null:                     -1960.3   \n",
              "Converged:                       1.0000                      LLR p-value:                 3.2735e-71\n",
              "No. Iterations:                  6.0000                      Scale:                       1.0000    \n",
              "----------------------------------------------------------------------------------------------------\n",
              "                                                     Coef.  Std.Err.    z     P>|z|   [0.025  0.975]\n",
              "----------------------------------------------------------------------------------------------------\n",
              "Intercept                                            2.1775   0.1955  11.1396 0.0000  1.7944  2.5606\n",
              "C(DeudaMembresia, Treatment('No Deudor'))[T.Deudor]  0.5896   0.1695   3.4787 0.0005  0.2574  0.9218\n",
              "C(TipoCliente, Treatment('Regular'))[T.Premium]     -1.0836   0.1493  -7.2578 0.0000 -1.3762 -0.7910\n",
              "C(MasUnPlan, Treatment('No'))[T.Si]                 -1.0562   0.1247  -8.4679 0.0000 -1.3006 -0.8117\n",
              "Antiguedad                                          -0.0442   0.0033 -13.2802 0.0000 -0.0507 -0.0377\n",
              "====================================================================================================\n",
              "\n",
              "\"\"\""
            ]
          },
          "execution_count": 25,
          "metadata": {},
          "output_type": "execute_result"
        }
      ],
      "source": [
        "modelo_seleccionado = sm.Logit.from_formula(searcher.optimal_formula_, data=data).fit()\n",
        "modelo_seleccionado.summary2()"
      ]
    },
    {
      "cell_type": "markdown",
      "metadata": {
        "id": "H-RWNxxgBl7g"
      },
      "source": [
        "* Finalmente, todos los predictores del modelo tienen un valor-p menor a 0.05.\n",
        "\n",
        "El modelo resultante es del tipo:\n",
        "\n",
        "$$\n",
        "\\log{\\left(\\pi_i \\over 1 - \\pi_i\\right)} = \\beta_0 + \\beta_1 \\cdot \\mathbb{I}_{\\{\\text{DeudaMembresia}_i=\\text{Deudor}\\}} + \\beta_2 \\cdot \\mathbb{I}_{\\{\\text{TipoCliente}_i=\\text{Premium}\\}} + \\beta_4 \\cdot \\mathbb{I}_{\\{\\text{MasUnPlan}_i=\\text{Si}\\}} + \\beta_4 \\cdot \\text{Antigüedad}_i\n",
        "$$\n",
        "\n",
        "\n",
        "Ahora, estudiemos mediante el método `predict()`, la probabilidad de fuga de los siguientes clientes:\n",
        "\n",
        "\n",
        "|   **Predictor**  | **Cliente A** | **Cliente B** |\n",
        "|:----------------:|:-------------:|:-------------:|\n",
        "| `DeudaMembresia` |     Deudor    |   No Deudor   |\n",
        "|   `TipoCliente`  |    Regular    |    Premium    |\n",
        "|    `MasUnPlan`   |       Si      |       Si      |\n",
        "|   `Antiguedad`   |       10      |       25      |\n",
        "\n"
      ]
    },
    {
      "cell_type": "code",
      "execution_count": null,
      "metadata": {
        "id": "WEaEW3aYBl7g",
        "outputId": "f8ec4be6-213d-42c1-eae2-297f125dddc4"
      },
      "outputs": [
        {
          "name": "stdout",
          "output_type": "stream",
          "text": [
            "- Clientes de interés:\n"
          ]
        },
        {
          "data": {
            "text/html": [
              "<div>\n",
              "<style scoped>\n",
              "    .dataframe tbody tr th:only-of-type {\n",
              "        vertical-align: middle;\n",
              "    }\n",
              "\n",
              "    .dataframe tbody tr th {\n",
              "        vertical-align: top;\n",
              "    }\n",
              "\n",
              "    .dataframe thead th {\n",
              "        text-align: right;\n",
              "    }\n",
              "</style>\n",
              "<table border=\"1\" class=\"dataframe\">\n",
              "  <thead>\n",
              "    <tr style=\"text-align: right;\">\n",
              "      <th></th>\n",
              "      <th>DeudaMembresia</th>\n",
              "      <th>TipoCliente</th>\n",
              "      <th>MasUnPlan</th>\n",
              "      <th>Antiguedad</th>\n",
              "    </tr>\n",
              "  </thead>\n",
              "  <tbody>\n",
              "    <tr>\n",
              "      <th>0</th>\n",
              "      <td>Deudor</td>\n",
              "      <td>Regular</td>\n",
              "      <td>Si</td>\n",
              "      <td>10</td>\n",
              "    </tr>\n",
              "    <tr>\n",
              "      <th>1</th>\n",
              "      <td>No Deudor</td>\n",
              "      <td>Premium</td>\n",
              "      <td>Si</td>\n",
              "      <td>25</td>\n",
              "    </tr>\n",
              "  </tbody>\n",
              "</table>\n",
              "</div>"
            ],
            "text/plain": [
              "  DeudaMembresia TipoCliente MasUnPlan  Antiguedad\n",
              "0         Deudor     Regular        Si          10\n",
              "1      No Deudor     Premium        Si          25"
            ]
          },
          "metadata": {},
          "output_type": "display_data"
        },
        {
          "name": "stdout",
          "output_type": "stream",
          "text": [
            "- Probabilidades de fuga según modelo:\n",
            "0   0.78059\n",
            "1   0.25602\n",
            "dtype: float64\n"
          ]
        }
      ],
      "source": [
        "clientes = pd.DataFrame([\n",
        "    {\"DeudaMembresia\": \"Deudor\", \"TipoCliente\": \"Regular\", \"MasUnPlan\": \"Si\", \"Antiguedad\": 10},\n",
        "    {\"DeudaMembresia\": \"No Deudor\", \"TipoCliente\": \"Premium\", \"MasUnPlan\": \"Si\", \"Antiguedad\": 25}\n",
        "])\n",
        "\n",
        "pi_clientes = modelo_seleccionado.predict(clientes)\n",
        "\n",
        "print(\"- Clientes de interés:\")\n",
        "display(clientes)\n",
        "print(\"- Probabilidades de fuga según modelo:\")\n",
        "print(pi_clientes)"
      ]
    },
    {
      "cell_type": "markdown",
      "metadata": {
        "id": "fcx6PeNRBl7h"
      },
      "source": [
        "### Métricas de Desempeño\n",
        "\n",
        "* Al ser un modelo de clasiﬁcación, se puede utilizar la matriz de confusión para evaluar el desempeño del modelo.\n",
        "* Para realizar una evaluación correcta del modelo se debe utilizar una base de datos distinta a la utilizada para ajustar el modelo. Sin embargo, para efectos de este curso, utilizaremos la misma base de datos para evaluar el modelo (nunca deben hacerlo).\n",
        "* La matriz de confusión es una tabla que muestra la cantidad de predicciones correctas e incorrectas realizadas por el modelo. A partir de ella se pueden calcular distintas métricas de desempeño.\n",
        "* En las filas de la matriz se encuentran los valores reales de la variable respuesta y en las columnas las predicciones realizadas por el modelo.\n",
        "* Con la función `pd.crosstab()` se puede realizar esta matriz.\n",
        "\n",
        "La matriz de confusión tiene la siguiente forma\n",
        "\n",
        "|   **Matriz de Confusión**  | **Predicción 0** | **Predicción 1** |\n",
        "|:--------------------------:|:----------------:|:----------------:|\n",
        "| **Valor Real 0** |     Verdadero Negativo    |   Falso Positivo   |\n",
        "| **Valor Real 1** |    Falso Negativo    |    Verdadero Positivo    |"
      ]
    },
    {
      "cell_type": "code",
      "execution_count": null,
      "metadata": {
        "id": "MsvPflVpBl7h",
        "outputId": "999a0416-f88e-4b1e-c196-dcdc13f2b3e2"
      },
      "outputs": [
        {
          "data": {
            "text/plain": [
              "array(['Finaliza Contrato', 'Mantiene Contrato'], dtype=object)"
            ]
          },
          "execution_count": 30,
          "metadata": {},
          "output_type": "execute_result"
        }
      ],
      "source": [
        "data[\"Churn\"].unique()"
      ]
    },
    {
      "cell_type": "code",
      "execution_count": null,
      "metadata": {
        "id": "2k7No3GMBl7h",
        "outputId": "510ac9f4-17bf-40aa-d90b-6e3f963b1201"
      },
      "outputs": [
        {
          "data": {
            "text/html": [
              "<div>\n",
              "<style scoped>\n",
              "    .dataframe tbody tr th:only-of-type {\n",
              "        vertical-align: middle;\n",
              "    }\n",
              "\n",
              "    .dataframe tbody tr th {\n",
              "        vertical-align: top;\n",
              "    }\n",
              "\n",
              "    .dataframe thead th {\n",
              "        text-align: right;\n",
              "    }\n",
              "</style>\n",
              "<table border=\"1\" class=\"dataframe\">\n",
              "  <thead>\n",
              "    <tr style=\"text-align: right;\">\n",
              "      <th>col_0</th>\n",
              "      <th>0</th>\n",
              "      <th>1</th>\n",
              "    </tr>\n",
              "    <tr>\n",
              "      <th>Churn_num</th>\n",
              "      <th></th>\n",
              "      <th></th>\n",
              "    </tr>\n",
              "  </thead>\n",
              "  <tbody>\n",
              "    <tr>\n",
              "      <th>0</th>\n",
              "      <td>1682</td>\n",
              "      <td>238</td>\n",
              "    </tr>\n",
              "    <tr>\n",
              "      <th>1</th>\n",
              "      <td>725</td>\n",
              "      <td>355</td>\n",
              "    </tr>\n",
              "  </tbody>\n",
              "</table>\n",
              "</div>"
            ],
            "text/plain": [
              "col_0         0    1\n",
              "Churn_num           \n",
              "0          1682  238\n",
              "1           725  355"
            ]
          },
          "execution_count": 34,
          "metadata": {},
          "output_type": "execute_result"
        }
      ],
      "source": [
        "probabilidades_predichas = modelo.predict(data)\n",
        "etiquetas_predichas = np.where(probabilidades_predichas >= 0.5, 1, 0)\n",
        "\n",
        "matriz_confusion = pd.crosstab(data[\"Churn_num\"], etiquetas_predichas)\n",
        "matriz_confusion"
      ]
    },
    {
      "cell_type": "markdown",
      "metadata": {
        "id": "EiGg4OdiBl7h"
      },
      "source": [
        "Solo esta vez utilizaremos `scikit-learn` para calcular las métricas de desmpeño. En especial, utilizaremos la función `classification_report()` del módulo `metrics`."
      ]
    },
    {
      "cell_type": "code",
      "execution_count": null,
      "metadata": {
        "id": "v0-q9XlxBl7h",
        "outputId": "898700f2-c472-48f6-dd6b-49a2878c1098"
      },
      "outputs": [
        {
          "name": "stdout",
          "output_type": "stream",
          "text": [
            "              precision    recall  f1-score   support\n",
            "\n",
            "           0       0.70      0.88      0.78      1920\n",
            "           1       0.60      0.33      0.42      1080\n",
            "\n",
            "    accuracy                           0.68      3000\n",
            "   macro avg       0.65      0.60      0.60      3000\n",
            "weighted avg       0.66      0.68      0.65      3000\n",
            "\n"
          ]
        }
      ],
      "source": [
        "from sklearn.metrics import classification_report\n",
        "\n",
        "print(classification_report(data[\"Churn_num\"], etiquetas_predichas))"
      ]
    },
    {
      "cell_type": "markdown",
      "metadata": {
        "id": "ONfzTdP-Bl7h"
      },
      "source": [
        "De acuerdo a lo que estamos viendo:\n",
        "\n",
        "* **precision 0**: es la proporción de predicciones correctas de que un cliente no se fuga, respecto a todas las predicciones de que un cliente no se fuga.\n",
        "* **precision 1**: es la proporción de predicciones correctas de que un cliente se fuga, respecto a todas las predicciones de que un cliente se fuga.\n",
        "* **recall 0**: es una tasa de detección de que un cliente no se fuga, respecto a todos los clientes que no se fugaron.\n",
        "* **recall 1**: es una tasa de detección de que un cliente se fuga, respecto a todos los clientes que se fugaron.\n",
        "* **f1-score**: es una media armónica entre precision y recall. Es útil para casos donde el dataset es desbalanceado (hay más clientes que no se fugan que clientes que se fugan).\n",
        "* **support**: es la cantidad de observaciones que hay en cada categoría.\n",
        "* **accuracy**: es la proporción de predicciones correctas, respecto a todas las predicciones realizadas por el modelo.\n",
        "* **macro avg**: es un promedio de las métricas de desempeño de cada categoría.\n",
        "* **weighted avg**: es un promedio de las métricas de desempeño de cada categoría, ponderado por la cantidad de observaciones en cada categoría.\n"
      ]
    },
    {
      "cell_type": "markdown",
      "metadata": {
        "id": "v7ErkWSNBl7h"
      },
      "source": [
        "## Ejercicios de práctica"
      ]
    },
    {
      "cell_type": "markdown",
      "metadata": {
        "id": "SbINWfyCBl7h"
      },
      "source": [
        "La base de datos `titanic.tsv` contiene información sobre los pasajeros que abordaron el barco Titanic en su último y fatal viaje. La descripción de las variables de la base de datos es la siguiente:\n",
        "\n",
        "* `idPasajero`: Código de identificación del pasajero.\n",
        "* `sobrevive`: Indica si el pasajero sobrevive al accidente (Si o No).\n",
        "* `clasePasaje`: Indica la clase del pasaje del pasajero (1ra clase, 2da clase o 3ra clase).\n",
        "* `nombre`: Nombre del pasajero (primero el apellido, trato y después el nombre).\n",
        "* `sexo`: Sexo del pasajero (Masculino o Femenino).\n",
        "* `nroHermanos`: Cantidad de hermanos con los que viaja el pasajero (valor entero no negativo).\n",
        "* `nroPadresHijos`: Cantidad de padres o hijos con los que viaja el pasajero (valor entero no negativo).\n",
        "* `idPasaje`: Código de identificación del pasaje.\n",
        "* `embarque`: Nombre del puerto donde el pasajero realiza el embarque (Southampton, Cherbourg o Queenstown).\n",
        "* `precioPasaje`: Valor del pasaje en florines (moneda usada en la época en Reino Unido) (valor decimal positivo).\n",
        "\n",
        "Interesa calcular la probabilidad de que un pasajero con determinadas características fallezca."
      ]
    },
    {
      "cell_type": "markdown",
      "metadata": {
        "id": "aB8OgspbBl7i"
      },
      "source": [
        "**1.** Cargue la base de datos y realice un análisis inicial. Indique el porcentaje de pasajeros que fallecieron en el accidente."
      ]
    },
    {
      "cell_type": "code",
      "execution_count": null,
      "metadata": {
        "id": "eZ92uNgXBl7i"
      },
      "outputs": [],
      "source": [
        "# Responda aquí:\n"
      ]
    },
    {
      "cell_type": "markdown",
      "metadata": {
        "id": "J160DBfABl7i"
      },
      "source": [
        "**2.** Realice un modelo que entregue la probabilidad de que un pasajero fallezca (`sobrevive=\"No\"`), utilice como predictores las variables\t`clasePasaje` (categoria \"3ra clase\" como referencia),\t`sexo` (categoria \"Masculino\" como referencia),\t`edad`,\t`nroHermanos`,\t`nroPadresHijos`,\t`embarque` (categoría \"Queenstown\" como referencia) y `precioPasaje`."
      ]
    },
    {
      "cell_type": "code",
      "execution_count": null,
      "metadata": {
        "id": "0KBOaP_wBl7i"
      },
      "outputs": [],
      "source": [
        "# Responda aquí:\n"
      ]
    },
    {
      "cell_type": "markdown",
      "metadata": {
        "id": "0SoikNlrBl7i"
      },
      "source": [
        "**3.** Realice selección secuencial (uno a uno) de predictores mediante valor-p."
      ]
    },
    {
      "cell_type": "code",
      "execution_count": null,
      "metadata": {
        "id": "hd5TM0TNBl7i"
      },
      "outputs": [],
      "source": [
        "# Responda aquí:\n"
      ]
    },
    {
      "cell_type": "markdown",
      "metadata": {
        "id": "0v3kUIASBl7i"
      },
      "source": [
        "**4.** Indique cuáles predictores son factores de riesgo o protección según corresponda."
      ]
    },
    {
      "cell_type": "code",
      "execution_count": null,
      "metadata": {
        "id": "yBJcXPDuBl7i"
      },
      "outputs": [],
      "source": [
        "# Responda aquí:\n"
      ]
    },
    {
      "cell_type": "markdown",
      "metadata": {
        "id": "8QTL_8AKBl7i"
      },
      "source": [
        "**5.** Interprete las razones de chances del modelo en términos del contexto."
      ]
    },
    {
      "cell_type": "code",
      "execution_count": null,
      "metadata": {
        "id": "PQ-fRT_wBl7i"
      },
      "outputs": [],
      "source": [
        "# Responda aquí:\n"
      ]
    },
    {
      "cell_type": "markdown",
      "metadata": {
        "id": "TyI9lkHbBl7i"
      },
      "source": [
        "**6.** Indique la probabilidad de que fallezcam los siguientes pasajeros en base al modelo.\n",
        "\n",
        "* Pasajero A:\n",
        "  * `clasePasaje`: 2da clase.\n",
        "  * `sexo`: Masculino.\n",
        "  * `edad`: 30.\n",
        "  * `nroHermanos`: 1.\n",
        "* Pasajero B:\n",
        "  * `clasePasaje`: 3ra clase.\n",
        "  * `sexo`: Femenino.\n",
        "  * `edad`: 60.\n",
        "  * `nroHermanos`: 0."
      ]
    },
    {
      "cell_type": "code",
      "execution_count": null,
      "metadata": {
        "id": "-EAdwHeUBl7i"
      },
      "outputs": [],
      "source": [
        "# Responda aquí:\n"
      ]
    },
    {
      "cell_type": "markdown",
      "metadata": {
        "id": "bXFVSCBZBl7j"
      },
      "source": [
        "**7.** ¿Cuántas chances más tiene de fallecer el pasajero A respecto al pasajero B?"
      ]
    },
    {
      "cell_type": "code",
      "execution_count": null,
      "metadata": {
        "id": "g3CJEeoRBl7j"
      },
      "outputs": [],
      "source": [
        "# Responda aquí:\n"
      ]
    }
  ],
  "metadata": {
    "kernelspec": {
      "display_name": "base",
      "language": "python",
      "name": "python3"
    },
    "language_info": {
      "codemirror_mode": {
        "name": "ipython",
        "version": 3
      },
      "file_extension": ".py",
      "mimetype": "text/x-python",
      "name": "python",
      "nbconvert_exporter": "python",
      "pygments_lexer": "ipython3",
      "version": "3.9.-1"
    },
    "orig_nbformat": 4,
    "colab": {
      "provenance": [],
      "include_colab_link": true
    }
  },
  "nbformat": 4,
  "nbformat_minor": 0
}